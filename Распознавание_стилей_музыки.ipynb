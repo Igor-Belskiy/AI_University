{
  "nbformat": 4,
  "nbformat_minor": 0,
  "metadata": {
    "colab": {
      "provenance": [],
      "authorship_tag": "ABX9TyPoY7xWmyzmBqDYdZWkhqSO",
      "include_colab_link": true
    },
    "kernelspec": {
      "name": "python3",
      "display_name": "Python 3"
    },
    "language_info": {
      "name": "python"
    }
  },
  "cells": [
    {
      "cell_type": "markdown",
      "metadata": {
        "id": "view-in-github",
        "colab_type": "text"
      },
      "source": [
        "<a href=\"https://colab.research.google.com/github/Igor-Belskiy/AI_University/blob/main/%D0%91%D0%B5%D0%BB%D1%8C%D1%81%D0%BA%D0%B8%D0%B9_%D0%A0%D0%B0%D1%81%D0%BF%D0%BE%D0%B7%D0%BD%D0%B0%D0%B2%D0%B0%D0%BD%D0%B8%D0%B5_%D1%81%D1%82%D0%B8%D0%BB%D0%B5%D0%B9_%D0%BC%D1%83%D0%B7%D1%8B%D0%BA%D0%B8.ipynb\" target=\"_parent\"><img src=\"https://colab.research.google.com/assets/colab-badge.svg\" alt=\"Open In Colab\"/></a>"
      ]
    },
    {
      "cell_type": "markdown",
      "source": [
        "#Загрузка данных и распознавание стилей музыки с помощью Dense сети"
      ],
      "metadata": {
        "id": "T_rILshHyo6L"
      }
    },
    {
      "cell_type": "code",
      "execution_count": null,
      "metadata": {
        "id": "xuDNIIiqxl9W"
      },
      "outputs": [],
      "source": [
        "#Подключаем библиотеки\n",
        "from google.colab import files #Загрузка файлов\n",
        "from tensorflow.keras.utils import to_categorical #Для представления в формате one_hot_encoding\n",
        "import os #Работа с папками и файлами\n",
        "import librosa #Параметризация аудио\n",
        "import numpy as np #Numpy массивы\n",
        "import matplotlib.pyplot as plt #Отображение графиков\n",
        "\n",
        "from tensorflow.keras.optimizers import Adam, RMSprop #Подключаем оптимизаторы\n",
        "from tensorflow.keras.models import Sequential, Model #Модели keras\n",
        "from tensorflow.keras.layers import concatenate, Input, Dense, Dropout, BatchNormalization, Flatten, Conv1D, Conv2D, LSTM #Базовые слои\n",
        "from sklearn.model_selection import train_test_split #Разбиение на обучающую и проверочную выборку\n",
        "from sklearn.preprocessing import LabelEncoder, StandardScaler #Для нормировки данных"
      ]
    },
    {
      "cell_type": "code",
      "source": [
        "import gdown\n",
        "gdown.download('https://drive.google.com/u/0/uc?id=1XsFcjb8aR7RYzHbCZqTrhv7tBTn--ySq', quiet=False)"
      ],
      "metadata": {
        "colab": {
          "base_uri": "https://localhost:8080/",
          "height": 105
        },
        "id": "QBhn9UkPxxtl",
        "outputId": "57bff7e4-b98f-4d3a-9276-2a6029468c6b"
      },
      "execution_count": null,
      "outputs": [
        {
          "output_type": "stream",
          "name": "stderr",
          "text": [
            "Downloading...\n",
            "From: https://drive.google.com/u/0/uc?id=1XsFcjb8aR7RYzHbCZqTrhv7tBTn--ySq\n",
            "To: /content/genres.zip\n",
            "100%|██████████| 1.23G/1.23G [00:22<00:00, 55.4MB/s]\n"
          ]
        },
        {
          "output_type": "execute_result",
          "data": {
            "text/plain": [
              "'genres.zip'"
            ],
            "application/vnd.google.colaboratory.intrinsic+json": {
              "type": "string"
            }
          },
          "metadata": {},
          "execution_count": 2
        }
      ]
    },
    {
      "cell_type": "code",
      "source": [
        "!unzip -q '/content/genres.zip' #распаковываем архив на google диске на локальный диск google colaboratory\n",
        "\n",
        "genres = os.listdir('genres') # получаем список папок в распакованной папке\n",
        "\n",
        "#Проверяем выгруженные папки\n",
        "!ls genres\n",
        "#И одну из папок\n",
        "!ls genres/blues"
      ],
      "metadata": {
        "colab": {
          "base_uri": "https://localhost:8080/"
        },
        "id": "o0MvDqDfx3Sm",
        "outputId": "88c62fa7-0da8-48f6-91ed-7cfb0db7f1a8"
      },
      "execution_count": null,
      "outputs": [
        {
          "output_type": "stream",
          "name": "stdout",
          "text": [
            "blues  classical  country  disco  hiphop  jazz\tmetal  pop  reggae  rock\n",
            "blues.00000.au\tblues.00020.au\tblues.00040.au\tblues.00060.au\tblues.00080.au\n",
            "blues.00001.au\tblues.00021.au\tblues.00041.au\tblues.00061.au\tblues.00081.au\n",
            "blues.00002.au\tblues.00022.au\tblues.00042.au\tblues.00062.au\tblues.00082.au\n",
            "blues.00003.au\tblues.00023.au\tblues.00043.au\tblues.00063.au\tblues.00083.au\n",
            "blues.00004.au\tblues.00024.au\tblues.00044.au\tblues.00064.au\tblues.00084.au\n",
            "blues.00005.au\tblues.00025.au\tblues.00045.au\tblues.00065.au\tblues.00085.au\n",
            "blues.00006.au\tblues.00026.au\tblues.00046.au\tblues.00066.au\tblues.00086.au\n",
            "blues.00007.au\tblues.00027.au\tblues.00047.au\tblues.00067.au\tblues.00087.au\n",
            "blues.00008.au\tblues.00028.au\tblues.00048.au\tblues.00068.au\tblues.00088.au\n",
            "blues.00009.au\tblues.00029.au\tblues.00049.au\tblues.00069.au\tblues.00089.au\n",
            "blues.00010.au\tblues.00030.au\tblues.00050.au\tblues.00070.au\tblues.00090.au\n",
            "blues.00011.au\tblues.00031.au\tblues.00051.au\tblues.00071.au\tblues.00091.au\n",
            "blues.00012.au\tblues.00032.au\tblues.00052.au\tblues.00072.au\tblues.00092.au\n",
            "blues.00013.au\tblues.00033.au\tblues.00053.au\tblues.00073.au\tblues.00093.au\n",
            "blues.00014.au\tblues.00034.au\tblues.00054.au\tblues.00074.au\tblues.00094.au\n",
            "blues.00015.au\tblues.00035.au\tblues.00055.au\tblues.00075.au\tblues.00095.au\n",
            "blues.00016.au\tblues.00036.au\tblues.00056.au\tblues.00076.au\tblues.00096.au\n",
            "blues.00017.au\tblues.00037.au\tblues.00057.au\tblues.00077.au\tblues.00097.au\n",
            "blues.00018.au\tblues.00038.au\tblues.00058.au\tblues.00078.au\tblues.00098.au\n",
            "blues.00019.au\tblues.00039.au\tblues.00059.au\tblues.00079.au\tblues.00099.au\n"
          ]
        }
      ]
    },
    {
      "cell_type": "code",
      "source": [
        "# Выводим список жанров\n",
        "print(genres)"
      ],
      "metadata": {
        "colab": {
          "base_uri": "https://localhost:8080/"
        },
        "id": "Tv-hERsYztPh",
        "outputId": "6efb78ae-3099-49c7-afc6-df3da032addf"
      },
      "execution_count": null,
      "outputs": [
        {
          "output_type": "stream",
          "name": "stdout",
          "text": [
            "['classical', 'reggae', 'jazz', 'country', 'disco', 'metal', 'hiphop', 'pop', 'rock', 'blues']\n"
          ]
        }
      ]
    },
    {
      "cell_type": "code",
      "source": [
        "#Функция параметризации аудио\n",
        "def get_features(y, sr):\n",
        "  #Получаем различные параметры аудио\n",
        "  chroma_stft = librosa.feature.chroma_stft(y=y, sr=sr) #Частота цветности (по умолчанию 12 баков цветности)\n",
        "  mfcc = librosa.feature.mfcc(y=y, sr=sr) #Мел кепстральные коэффициенты (по умолчанию 20)\n",
        "\n",
        "  rmse = np.mean(librosa.feature.rms(y=y)) #Среднеквадратичная амплитуда\n",
        "  spec_cent = np.mean(librosa.feature.spectral_centroid(y=y, sr=sr)) #среднее спектральныго центроида\n",
        "  spec_bw = np.mean(librosa.feature.spectral_bandwidth(y=y, sr=sr)) #среднее ширины полосы частот\n",
        "  rolloff = np.mean(librosa.feature.spectral_rolloff(y=y, sr=sr)) #среднее спектрального спада частоты\n",
        "  zcr = np.mean(librosa.feature.zero_crossing_rate(y)) #среднее частота пересечения нуля звукового временного ряда\n",
        "\n",
        "\n",
        "  #Добавляем все параметры в один список\n",
        "  out = [] # создаем пустой список\n",
        "  out.append(rmse) #  добавляем среднеквадратичную амплитуду\n",
        "  out.append(spec_cent) #добавляем спектральный центроид\n",
        "  out.append(spec_bw) # добавляем ширину полосы частот\n",
        "  out.append(rolloff) # добавляем спектральный спад частоты\n",
        "  out.append(zcr) # добавляем пересечение нуля\n",
        "\n",
        "  #добавляем среднее всех Мел спектральных коэффициентов (20 значений)\n",
        "  for e in mfcc:\n",
        "    out.append(np.mean(e))\n",
        "\n",
        "  #добавляем среднее всех Частот цветности (12 значений)\n",
        "  for e in chroma_stft:\n",
        "    out.append(np.mean(e))\n",
        "\n",
        "  #Возвращаем получившийся список размерностью (37,)\n",
        "  return out"
      ],
      "metadata": {
        "id": "u6O0FQyux4j7"
      },
      "execution_count": null,
      "outputs": []
    },
    {
      "cell_type": "code",
      "source": [
        "import time #подключаем модуль time для подсчёта времени на обработку одного жанра\n",
        "\n",
        "#Формируем обучающую выборку\n",
        "#Создаём пустые листы\n",
        "X_train = []\n",
        "Y_train = []\n",
        "\n",
        "#Запоминаем время старта формирования выборки\n",
        "curr_time = time.time()\n",
        "\n",
        "#Проходим по всем жарнам\n",
        "for i in range(len(genres)):\n",
        "  g = genres[i] #Берём текущий жанр\n",
        "  #Проходим по файлам папки, соответствующей текущему жанру\n",
        "  for filename in os.listdir(f'./genres/{g}'):\n",
        "    #Получаем имя песни\n",
        "    songname = f'./genres/{g}/{filename}'\n",
        "    #Загружаем в y аудиосигнал\n",
        "    #Используем первые 30 секунд аудио\n",
        "    y, sr = librosa.load(songname, mono=True, duration=30) #y - массив данных временного ряда аудио, sr - частота дискретизации временного ряда\n",
        "    #Превращаем сигнал в параметризованные данные\n",
        "    out = get_features(y, sr)\n",
        "\n",
        "    #Добавляем строку в X_train\n",
        "    X_train.append(out)\n",
        "    #Добавляем в Y_train номер жанра в формате ohe\n",
        "    Y_train.append(to_categorical(i, len(genres)))\n",
        "\n",
        "  #Выводим информацию о готовности обработки базы\n",
        "  print(\"Жанр \", g, \" готов -> \", round(time.time() - curr_time), \"c\", sep=\"\")\n",
        "  curr_time = time.time()\n",
        "\n",
        "#Превращаем обучающую выборку на numpy массивы\n",
        "X_train = np.array(X_train)\n",
        "Y_train = np.array(Y_train)"
      ],
      "metadata": {
        "colab": {
          "base_uri": "https://localhost:8080/"
        },
        "id": "_VkvQlW2ySKE",
        "outputId": "0d4e5e27-116a-4104-9f62-6ec2f8b8c3ca"
      },
      "execution_count": null,
      "outputs": [
        {
          "output_type": "stream",
          "name": "stdout",
          "text": [
            "Жанр classical готов -> 72c\n",
            "Жанр reggae готов -> 57c\n",
            "Жанр jazz готов -> 66c\n",
            "Жанр country готов -> 61c\n",
            "Жанр disco готов -> 71c\n",
            "Жанр metal готов -> 64c\n",
            "Жанр hiphop готов -> 56c\n",
            "Жанр pop готов -> 61c\n",
            "Жанр rock готов -> 53c\n",
            "Жанр blues готов -> 53c\n"
          ]
        }
      ]
    },
    {
      "cell_type": "code",
      "source": [
        "#Создаём backup обучающей выборки\n",
        "X_train_backup = X_train.copy()\n",
        "Y_train_backup = Y_train.copy()"
      ],
      "metadata": {
        "id": "On4BVEWlyT_O"
      },
      "execution_count": null,
      "outputs": []
    },
    {
      "cell_type": "code",
      "source": [
        "#Выводим номера классов, чтобы проверить, что всё правильно заполнилось\n",
        "#И номера классов идут последовательно крупными блоками\n",
        "y_train_class = np.argmax(Y_train, axis=1)\n",
        "print(y_train_class)"
      ],
      "metadata": {
        "colab": {
          "base_uri": "https://localhost:8080/"
        },
        "id": "Svuf7D7007A4",
        "outputId": "82c6c0dd-f530-4e37-ce97-3601c4505c11"
      },
      "execution_count": null,
      "outputs": [
        {
          "output_type": "stream",
          "name": "stdout",
          "text": [
            "[0 0 0 0 0 0 0 0 0 0 0 0 0 0 0 0 0 0 0 0 0 0 0 0 0 0 0 0 0 0 0 0 0 0 0 0 0\n",
            " 0 0 0 0 0 0 0 0 0 0 0 0 0 0 0 0 0 0 0 0 0 0 0 0 0 0 0 0 0 0 0 0 0 0 0 0 0\n",
            " 0 0 0 0 0 0 0 0 0 0 0 0 0 0 0 0 0 0 0 0 0 0 0 0 0 0 1 1 1 1 1 1 1 1 1 1 1\n",
            " 1 1 1 1 1 1 1 1 1 1 1 1 1 1 1 1 1 1 1 1 1 1 1 1 1 1 1 1 1 1 1 1 1 1 1 1 1\n",
            " 1 1 1 1 1 1 1 1 1 1 1 1 1 1 1 1 1 1 1 1 1 1 1 1 1 1 1 1 1 1 1 1 1 1 1 1 1\n",
            " 1 1 1 1 1 1 1 1 1 1 1 1 1 1 1 2 2 2 2 2 2 2 2 2 2 2 2 2 2 2 2 2 2 2 2 2 2\n",
            " 2 2 2 2 2 2 2 2 2 2 2 2 2 2 2 2 2 2 2 2 2 2 2 2 2 2 2 2 2 2 2 2 2 2 2 2 2\n",
            " 2 2 2 2 2 2 2 2 2 2 2 2 2 2 2 2 2 2 2 2 2 2 2 2 2 2 2 2 2 2 2 2 2 2 2 2 2\n",
            " 2 2 2 2 3 3 3 3 3 3 3 3 3 3 3 3 3 3 3 3 3 3 3 3 3 3 3 3 3 3 3 3 3 3 3 3 3\n",
            " 3 3 3 3 3 3 3 3 3 3 3 3 3 3 3 3 3 3 3 3 3 3 3 3 3 3 3 3 3 3 3 3 3 3 3 3 3\n",
            " 3 3 3 3 3 3 3 3 3 3 3 3 3 3 3 3 3 3 3 3 3 3 3 3 3 3 3 3 3 3 4 4 4 4 4 4 4\n",
            " 4 4 4 4 4 4 4 4 4 4 4 4 4 4 4 4 4 4 4 4 4 4 4 4 4 4 4 4 4 4 4 4 4 4 4 4 4\n",
            " 4 4 4 4 4 4 4 4 4 4 4 4 4 4 4 4 4 4 4 4 4 4 4 4 4 4 4 4 4 4 4 4 4 4 4 4 4\n",
            " 4 4 4 4 4 4 4 4 4 4 4 4 4 4 4 4 4 4 4 5 5 5 5 5 5 5 5 5 5 5 5 5 5 5 5 5 5\n",
            " 5 5 5 5 5 5 5 5 5 5 5 5 5 5 5 5 5 5 5 5 5 5 5 5 5 5 5 5 5 5 5 5 5 5 5 5 5\n",
            " 5 5 5 5 5 5 5 5 5 5 5 5 5 5 5 5 5 5 5 5 5 5 5 5 5 5 5 5 5 5 5 5 5 5 5 5 5\n",
            " 5 5 5 5 5 5 5 5 6 6 6 6 6 6 6 6 6 6 6 6 6 6 6 6 6 6 6 6 6 6 6 6 6 6 6 6 6\n",
            " 6 6 6 6 6 6 6 6 6 6 6 6 6 6 6 6 6 6 6 6 6 6 6 6 6 6 6 6 6 6 6 6 6 6 6 6 6\n",
            " 6 6 6 6 6 6 6 6 6 6 6 6 6 6 6 6 6 6 6 6 6 6 6 6 6 6 6 6 6 6 6 6 6 6 7 7 7\n",
            " 7 7 7 7 7 7 7 7 7 7 7 7 7 7 7 7 7 7 7 7 7 7 7 7 7 7 7 7 7 7 7 7 7 7 7 7 7\n",
            " 7 7 7 7 7 7 7 7 7 7 7 7 7 7 7 7 7 7 7 7 7 7 7 7 7 7 7 7 7 7 7 7 7 7 7 7 7\n",
            " 7 7 7 7 7 7 7 7 7 7 7 7 7 7 7 7 7 7 7 7 7 7 7 8 8 8 8 8 8 8 8 8 8 8 8 8 8\n",
            " 8 8 8 8 8 8 8 8 8 8 8 8 8 8 8 8 8 8 8 8 8 8 8 8 8 8 8 8 8 8 8 8 8 8 8 8 8\n",
            " 8 8 8 8 8 8 8 8 8 8 8 8 8 8 8 8 8 8 8 8 8 8 8 8 8 8 8 8 8 8 8 8 8 8 8 8 8\n",
            " 8 8 8 8 8 8 8 8 8 8 8 8 9 9 9 9 9 9 9 9 9 9 9 9 9 9 9 9 9 9 9 9 9 9 9 9 9\n",
            " 9 9 9 9 9 9 9 9 9 9 9 9 9 9 9 9 9 9 9 9 9 9 9 9 9 9 9 9 9 9 9 9 9 9 9 9 9\n",
            " 9 9 9 9 9 9 9 9 9 9 9 9 9 9 9 9 9 9 9 9 9 9 9 9 9 9 9 9 9 9 9 9 9 9 9 9 9\n",
            " 9]\n"
          ]
        }
      ]
    },
    {
      "cell_type": "code",
      "source": [
        "#Выводим размеры обучающей выборки\n",
        "print(X_train.shape)\n",
        "print(Y_train.shape)\n",
        "print(y_train_class.shape)"
      ],
      "metadata": {
        "colab": {
          "base_uri": "https://localhost:8080/"
        },
        "id": "Gnuf2Zw2yb56",
        "outputId": "b00d116a-110a-4047-8ff6-39fbe1d3aa17"
      },
      "execution_count": null,
      "outputs": [
        {
          "output_type": "stream",
          "name": "stdout",
          "text": [
            "(1000, 37)\n",
            "(1000, 10)\n",
            "(1000,)\n"
          ]
        }
      ]
    },
    {
      "cell_type": "code",
      "source": [
        "#Создаём scaler экземпляр класса StandardScaler() для нормировки данных\n",
        "scaler = StandardScaler()\n",
        "#Номируем X_train\n",
        "X_train = scaler.fit_transform(X_train)"
      ],
      "metadata": {
        "id": "ic0EFKndyftz"
      },
      "execution_count": null,
      "outputs": []
    },
    {
      "cell_type": "code",
      "source": [
        "#Проверяем, что X_train нормировался\n",
        "print(X_train[0])"
      ],
      "metadata": {
        "colab": {
          "base_uri": "https://localhost:8080/"
        },
        "id": "7UWNUoQ1yiaj",
        "outputId": "996b38d5-44a0-44a2-97cf-0cacf89c9eec"
      },
      "execution_count": null,
      "outputs": [
        {
          "output_type": "stream",
          "name": "stdout",
          "text": [
            "[-1.75031256 -1.28580476 -1.40618124 -1.35430671 -1.05771482 -2.74274188\n",
            "  0.89082589  0.23718246 -0.78589637 -0.26064538 -0.89597771 -0.30961497\n",
            " -1.69596757 -0.00937897 -1.34275867 -0.20345469 -1.47580431 -0.69724557\n",
            " -2.47657974 -0.38340733 -0.33674723  2.41806195  1.31502021 -0.30523632\n",
            " -1.06346506 -2.04699368 -0.4960336  -0.74660492  0.30540485 -0.87441084\n",
            " -2.30619952 -1.79168226 -1.11593862 -1.45063813 -0.89390099 -1.44317222\n",
            " -1.66796454]\n"
          ]
        }
      ]
    },
    {
      "cell_type": "code",
      "source": [
        "#Разделяем выборку на обучающую и проверочную\n",
        "#Для проверочной используем 10% примеров\n",
        "#Так как база маленькая\n",
        "X_train, X_test, y_train, y_test = train_test_split(X_train, y_train_class, test_size=0.1)"
      ],
      "metadata": {
        "id": "aAL63pa4y0rr"
      },
      "execution_count": null,
      "outputs": []
    },
    {
      "cell_type": "code",
      "source": [
        "#Выводим размеры обучающей и проверочной выборки для проверки\n",
        "print(X_train.shape)\n",
        "print(y_train.shape)\n",
        "print(X_test.shape)\n",
        "print(y_test.shape)"
      ],
      "metadata": {
        "colab": {
          "base_uri": "https://localhost:8080/"
        },
        "id": "twm9TFmSy3Ms",
        "outputId": "574f37b3-bb38-45f1-9040-2d9ec4e71253"
      },
      "execution_count": null,
      "outputs": [
        {
          "output_type": "stream",
          "name": "stdout",
          "text": [
            "(900, 37)\n",
            "(900,)\n",
            "(100, 37)\n",
            "(100,)\n"
          ]
        }
      ]
    },
    {
      "cell_type": "markdown",
      "source": [
        "#Cоздаём нейронную сеть"
      ],
      "metadata": {
        "id": "ECPCctSpy9CX"
      }
    },
    {
      "cell_type": "code",
      "source": [
        "#Указываем, какие индексы данных во входных векторах брать для обучения\n",
        "#Делаем это для того, чтобы можно было экспериментировать\n",
        "#И обучать не на всех колонках данных, а на части\n",
        "indexes = range(0,37)\n",
        "\n",
        "#Создаём полносвязанную сеть\n",
        "model = Sequential()\n",
        "model.add(Dense(256, activation='elu', input_shape=(len(indexes),)))\n",
        "model.add(Dense(128, activation='elu'))\n",
        "model.add(Dense(64, activation='elu'))\n",
        "model.add(Dense(32, activation='elu'))\n",
        "#В конце количество нейронов равно количеству классов и softmax\n",
        "model.add(Dense(len(genres), activation='softmax'))\n",
        "\n",
        "#Компилируем сеть\n",
        "model.compile(optimizer=RMSprop(lr=1e-4),\n",
        "              loss='sparse_categorical_crossentropy',\n",
        "              metrics=['accuracy'])\n",
        "\n",
        "#Обучаем\n",
        "history = model.fit(X_train[:, indexes],\n",
        "                    y_train,\n",
        "                    epochs=200,\n",
        "                    batch_size=20,\n",
        "                    validation_data=(X_test[:, indexes], y_test))\n",
        "\n",
        "#Выводим график точности распознавания на обучающей и проверочной выборках\n",
        "plt.plot(history.history[\"accuracy\"])\n",
        "plt.plot(history.history[\"val_accuracy\"])\n",
        "plt.show()"
      ],
      "metadata": {
        "colab": {
          "base_uri": "https://localhost:8080/",
          "height": 1000
        },
        "id": "ABAK98Zzy7_Y",
        "outputId": "47a78d78-eb3e-46d1-c5cd-2b688cbadca4"
      },
      "execution_count": null,
      "outputs": [
        {
          "output_type": "stream",
          "name": "stderr",
          "text": [
            "WARNING:absl:`lr` is deprecated in Keras optimizer, please use `learning_rate` or use the legacy optimizer, e.g.,tf.keras.optimizers.legacy.RMSprop.\n"
          ]
        },
        {
          "output_type": "stream",
          "name": "stdout",
          "text": [
            "Epoch 1/200\n",
            "45/45 [==============================] - 1s 9ms/step - loss: 1.5601 - accuracy: 0.4411 - val_loss: 1.3426 - val_accuracy: 0.5300\n",
            "Epoch 2/200\n",
            "45/45 [==============================] - 0s 3ms/step - loss: 1.1767 - accuracy: 0.6000 - val_loss: 1.3057 - val_accuracy: 0.5300\n",
            "Epoch 3/200\n",
            "45/45 [==============================] - 0s 3ms/step - loss: 1.0218 - accuracy: 0.6544 - val_loss: 1.2048 - val_accuracy: 0.5800\n",
            "Epoch 4/200\n",
            "45/45 [==============================] - 0s 3ms/step - loss: 0.9309 - accuracy: 0.6856 - val_loss: 1.2349 - val_accuracy: 0.5400\n",
            "Epoch 5/200\n",
            "45/45 [==============================] - 0s 4ms/step - loss: 0.8588 - accuracy: 0.7089 - val_loss: 1.1884 - val_accuracy: 0.5900\n",
            "Epoch 6/200\n",
            "45/45 [==============================] - 0s 3ms/step - loss: 0.7809 - accuracy: 0.7400 - val_loss: 1.1964 - val_accuracy: 0.5600\n",
            "Epoch 7/200\n",
            "45/45 [==============================] - 0s 4ms/step - loss: 0.7325 - accuracy: 0.7500 - val_loss: 1.2291 - val_accuracy: 0.5700\n",
            "Epoch 8/200\n",
            "45/45 [==============================] - 0s 3ms/step - loss: 0.6629 - accuracy: 0.7811 - val_loss: 1.2082 - val_accuracy: 0.6200\n",
            "Epoch 9/200\n",
            "45/45 [==============================] - 0s 4ms/step - loss: 0.6182 - accuracy: 0.7811 - val_loss: 1.1135 - val_accuracy: 0.6200\n",
            "Epoch 10/200\n",
            "45/45 [==============================] - 0s 4ms/step - loss: 0.5609 - accuracy: 0.8056 - val_loss: 1.2017 - val_accuracy: 0.6000\n",
            "Epoch 11/200\n",
            "45/45 [==============================] - 0s 4ms/step - loss: 0.5361 - accuracy: 0.8278 - val_loss: 1.3535 - val_accuracy: 0.5400\n",
            "Epoch 12/200\n",
            "45/45 [==============================] - 0s 4ms/step - loss: 0.4786 - accuracy: 0.8411 - val_loss: 1.2259 - val_accuracy: 0.6300\n",
            "Epoch 13/200\n",
            "45/45 [==============================] - 0s 4ms/step - loss: 0.4541 - accuracy: 0.8433 - val_loss: 1.0995 - val_accuracy: 0.6300\n",
            "Epoch 14/200\n",
            "45/45 [==============================] - 0s 3ms/step - loss: 0.4088 - accuracy: 0.8678 - val_loss: 1.1371 - val_accuracy: 0.5700\n",
            "Epoch 15/200\n",
            "45/45 [==============================] - 0s 5ms/step - loss: 0.3726 - accuracy: 0.8767 - val_loss: 1.1516 - val_accuracy: 0.6300\n",
            "Epoch 16/200\n",
            "45/45 [==============================] - 0s 6ms/step - loss: 0.3415 - accuracy: 0.8922 - val_loss: 1.1846 - val_accuracy: 0.6100\n",
            "Epoch 17/200\n",
            "45/45 [==============================] - 0s 6ms/step - loss: 0.3055 - accuracy: 0.9022 - val_loss: 1.1784 - val_accuracy: 0.6200\n",
            "Epoch 18/200\n",
            "45/45 [==============================] - 0s 6ms/step - loss: 0.2748 - accuracy: 0.9189 - val_loss: 1.4097 - val_accuracy: 0.6000\n",
            "Epoch 19/200\n",
            "45/45 [==============================] - 0s 5ms/step - loss: 0.2480 - accuracy: 0.9256 - val_loss: 1.3241 - val_accuracy: 0.5900\n",
            "Epoch 20/200\n",
            "45/45 [==============================] - 0s 5ms/step - loss: 0.2264 - accuracy: 0.9311 - val_loss: 1.4352 - val_accuracy: 0.5700\n",
            "Epoch 21/200\n",
            "45/45 [==============================] - 0s 6ms/step - loss: 0.1925 - accuracy: 0.9467 - val_loss: 1.4955 - val_accuracy: 0.5600\n",
            "Epoch 22/200\n",
            "45/45 [==============================] - 0s 5ms/step - loss: 0.1748 - accuracy: 0.9567 - val_loss: 1.4497 - val_accuracy: 0.6400\n",
            "Epoch 23/200\n",
            "45/45 [==============================] - 0s 5ms/step - loss: 0.1518 - accuracy: 0.9589 - val_loss: 1.3764 - val_accuracy: 0.6600\n",
            "Epoch 24/200\n",
            "45/45 [==============================] - 0s 4ms/step - loss: 0.1414 - accuracy: 0.9689 - val_loss: 1.4916 - val_accuracy: 0.6400\n",
            "Epoch 25/200\n",
            "45/45 [==============================] - 0s 5ms/step - loss: 0.1129 - accuracy: 0.9733 - val_loss: 1.4372 - val_accuracy: 0.6200\n",
            "Epoch 26/200\n",
            "45/45 [==============================] - 0s 4ms/step - loss: 0.0966 - accuracy: 0.9756 - val_loss: 1.5018 - val_accuracy: 0.6100\n",
            "Epoch 27/200\n",
            "45/45 [==============================] - 0s 4ms/step - loss: 0.0903 - accuracy: 0.9756 - val_loss: 1.7684 - val_accuracy: 0.6400\n",
            "Epoch 28/200\n",
            "45/45 [==============================] - 0s 3ms/step - loss: 0.0788 - accuracy: 0.9844 - val_loss: 1.6801 - val_accuracy: 0.6300\n",
            "Epoch 29/200\n",
            "45/45 [==============================] - 0s 4ms/step - loss: 0.0616 - accuracy: 0.9889 - val_loss: 1.5271 - val_accuracy: 0.6400\n",
            "Epoch 30/200\n",
            "45/45 [==============================] - 0s 4ms/step - loss: 0.0607 - accuracy: 0.9844 - val_loss: 1.7109 - val_accuracy: 0.6500\n",
            "Epoch 31/200\n",
            "45/45 [==============================] - 0s 3ms/step - loss: 0.0595 - accuracy: 0.9844 - val_loss: 1.7558 - val_accuracy: 0.6300\n",
            "Epoch 32/200\n",
            "45/45 [==============================] - 0s 4ms/step - loss: 0.0440 - accuracy: 0.9911 - val_loss: 1.8196 - val_accuracy: 0.6300\n",
            "Epoch 33/200\n",
            "45/45 [==============================] - 0s 3ms/step - loss: 0.0360 - accuracy: 0.9922 - val_loss: 2.0874 - val_accuracy: 0.6200\n",
            "Epoch 34/200\n",
            "45/45 [==============================] - 0s 3ms/step - loss: 0.0358 - accuracy: 0.9933 - val_loss: 1.8975 - val_accuracy: 0.6100\n",
            "Epoch 35/200\n",
            "45/45 [==============================] - 0s 3ms/step - loss: 0.0294 - accuracy: 0.9956 - val_loss: 1.9647 - val_accuracy: 0.6400\n",
            "Epoch 36/200\n",
            "45/45 [==============================] - 0s 4ms/step - loss: 0.0360 - accuracy: 0.9889 - val_loss: 2.0500 - val_accuracy: 0.6500\n",
            "Epoch 37/200\n",
            "45/45 [==============================] - 0s 3ms/step - loss: 0.0287 - accuracy: 0.9922 - val_loss: 2.0147 - val_accuracy: 0.6400\n",
            "Epoch 38/200\n",
            "45/45 [==============================] - 0s 4ms/step - loss: 0.0293 - accuracy: 0.9944 - val_loss: 2.3900 - val_accuracy: 0.6000\n",
            "Epoch 39/200\n",
            "45/45 [==============================] - 0s 3ms/step - loss: 0.0384 - accuracy: 0.9911 - val_loss: 2.2673 - val_accuracy: 0.6200\n",
            "Epoch 40/200\n",
            "45/45 [==============================] - 0s 3ms/step - loss: 0.0336 - accuracy: 0.9922 - val_loss: 2.2208 - val_accuracy: 0.6400\n",
            "Epoch 41/200\n",
            "45/45 [==============================] - 0s 3ms/step - loss: 0.0249 - accuracy: 0.9967 - val_loss: 1.9672 - val_accuracy: 0.6400\n",
            "Epoch 42/200\n",
            "45/45 [==============================] - 0s 3ms/step - loss: 0.0186 - accuracy: 0.9944 - val_loss: 2.3833 - val_accuracy: 0.6100\n",
            "Epoch 43/200\n",
            "45/45 [==============================] - 0s 3ms/step - loss: 0.0223 - accuracy: 0.9956 - val_loss: 2.1578 - val_accuracy: 0.7000\n",
            "Epoch 44/200\n",
            "45/45 [==============================] - 0s 4ms/step - loss: 0.0255 - accuracy: 0.9911 - val_loss: 2.3144 - val_accuracy: 0.6700\n",
            "Epoch 45/200\n",
            "45/45 [==============================] - 0s 4ms/step - loss: 0.0212 - accuracy: 0.9933 - val_loss: 2.5690 - val_accuracy: 0.6500\n",
            "Epoch 46/200\n",
            "45/45 [==============================] - 0s 3ms/step - loss: 0.0311 - accuracy: 0.9900 - val_loss: 2.3675 - val_accuracy: 0.6300\n",
            "Epoch 47/200\n",
            "45/45 [==============================] - 0s 4ms/step - loss: 0.0162 - accuracy: 0.9944 - val_loss: 2.5103 - val_accuracy: 0.6400\n",
            "Epoch 48/200\n",
            "45/45 [==============================] - 0s 3ms/step - loss: 0.0205 - accuracy: 0.9933 - val_loss: 2.3484 - val_accuracy: 0.6400\n",
            "Epoch 49/200\n",
            "45/45 [==============================] - 0s 4ms/step - loss: 0.0065 - accuracy: 0.9989 - val_loss: 2.4540 - val_accuracy: 0.6100\n",
            "Epoch 50/200\n",
            "45/45 [==============================] - 0s 4ms/step - loss: 0.0171 - accuracy: 0.9967 - val_loss: 2.5775 - val_accuracy: 0.5900\n",
            "Epoch 51/200\n",
            "45/45 [==============================] - 0s 4ms/step - loss: 0.0097 - accuracy: 0.9967 - val_loss: 2.4728 - val_accuracy: 0.6500\n",
            "Epoch 52/200\n",
            "45/45 [==============================] - 0s 4ms/step - loss: 0.0162 - accuracy: 0.9956 - val_loss: 2.4067 - val_accuracy: 0.6100\n",
            "Epoch 53/200\n",
            "45/45 [==============================] - 0s 3ms/step - loss: 0.0128 - accuracy: 0.9967 - val_loss: 2.5832 - val_accuracy: 0.6400\n",
            "Epoch 54/200\n",
            "45/45 [==============================] - 0s 4ms/step - loss: 0.0218 - accuracy: 0.9911 - val_loss: 2.8485 - val_accuracy: 0.5900\n",
            "Epoch 55/200\n",
            "45/45 [==============================] - 0s 3ms/step - loss: 0.0061 - accuracy: 0.9978 - val_loss: 2.5261 - val_accuracy: 0.6300\n",
            "Epoch 56/200\n",
            "45/45 [==============================] - 0s 3ms/step - loss: 0.0149 - accuracy: 0.9967 - val_loss: 2.6853 - val_accuracy: 0.6300\n",
            "Epoch 57/200\n",
            "45/45 [==============================] - 0s 4ms/step - loss: 0.0205 - accuracy: 0.9944 - val_loss: 2.7596 - val_accuracy: 0.5800\n",
            "Epoch 58/200\n",
            "45/45 [==============================] - 0s 4ms/step - loss: 0.0180 - accuracy: 0.9956 - val_loss: 2.6430 - val_accuracy: 0.6200\n",
            "Epoch 59/200\n",
            "45/45 [==============================] - 0s 4ms/step - loss: 0.0330 - accuracy: 0.9933 - val_loss: 3.0039 - val_accuracy: 0.6000\n",
            "Epoch 60/200\n",
            "45/45 [==============================] - 0s 4ms/step - loss: 0.0035 - accuracy: 0.9989 - val_loss: 2.7903 - val_accuracy: 0.6500\n",
            "Epoch 61/200\n",
            "45/45 [==============================] - 0s 4ms/step - loss: 0.0221 - accuracy: 0.9967 - val_loss: 2.9027 - val_accuracy: 0.6000\n",
            "Epoch 62/200\n",
            "45/45 [==============================] - 0s 4ms/step - loss: 0.0094 - accuracy: 0.9956 - val_loss: 3.1856 - val_accuracy: 0.5900\n",
            "Epoch 63/200\n",
            "45/45 [==============================] - 0s 4ms/step - loss: 0.0104 - accuracy: 0.9978 - val_loss: 3.0868 - val_accuracy: 0.5900\n",
            "Epoch 64/200\n",
            "45/45 [==============================] - 0s 3ms/step - loss: 0.0301 - accuracy: 0.9878 - val_loss: 3.1933 - val_accuracy: 0.6100\n",
            "Epoch 65/200\n",
            "45/45 [==============================] - 0s 3ms/step - loss: 0.0151 - accuracy: 0.9978 - val_loss: 2.7778 - val_accuracy: 0.6400\n",
            "Epoch 66/200\n",
            "45/45 [==============================] - 0s 3ms/step - loss: 0.0106 - accuracy: 0.9967 - val_loss: 3.0112 - val_accuracy: 0.6200\n",
            "Epoch 67/200\n",
            "45/45 [==============================] - 0s 4ms/step - loss: 0.0034 - accuracy: 0.9989 - val_loss: 3.1961 - val_accuracy: 0.6200\n",
            "Epoch 68/200\n",
            "45/45 [==============================] - 0s 3ms/step - loss: 0.0151 - accuracy: 0.9978 - val_loss: 3.2944 - val_accuracy: 0.6600\n",
            "Epoch 69/200\n",
            "45/45 [==============================] - 0s 3ms/step - loss: 0.0145 - accuracy: 0.9956 - val_loss: 2.7541 - val_accuracy: 0.6400\n",
            "Epoch 70/200\n",
            "45/45 [==============================] - 0s 3ms/step - loss: 0.0137 - accuracy: 0.9967 - val_loss: 2.7793 - val_accuracy: 0.6500\n",
            "Epoch 71/200\n",
            "45/45 [==============================] - 0s 3ms/step - loss: 0.0070 - accuracy: 0.9978 - val_loss: 2.8360 - val_accuracy: 0.6500\n",
            "Epoch 72/200\n",
            "45/45 [==============================] - 0s 3ms/step - loss: 0.0106 - accuracy: 0.9978 - val_loss: 2.9510 - val_accuracy: 0.6100\n",
            "Epoch 73/200\n",
            "45/45 [==============================] - 0s 3ms/step - loss: 0.0289 - accuracy: 0.9933 - val_loss: 2.7908 - val_accuracy: 0.6200\n",
            "Epoch 74/200\n",
            "45/45 [==============================] - 0s 3ms/step - loss: 0.0172 - accuracy: 0.9967 - val_loss: 2.8116 - val_accuracy: 0.6400\n",
            "Epoch 75/200\n",
            "45/45 [==============================] - 0s 3ms/step - loss: 0.0086 - accuracy: 0.9978 - val_loss: 3.3343 - val_accuracy: 0.5900\n",
            "Epoch 76/200\n",
            "45/45 [==============================] - 0s 4ms/step - loss: 0.0124 - accuracy: 0.9967 - val_loss: 2.9235 - val_accuracy: 0.6300\n",
            "Epoch 77/200\n",
            "45/45 [==============================] - 0s 3ms/step - loss: 0.0089 - accuracy: 0.9967 - val_loss: 2.9937 - val_accuracy: 0.6600\n",
            "Epoch 78/200\n",
            "45/45 [==============================] - 0s 4ms/step - loss: 0.0193 - accuracy: 0.9956 - val_loss: 3.0399 - val_accuracy: 0.6500\n",
            "Epoch 79/200\n",
            "45/45 [==============================] - 0s 3ms/step - loss: 0.0139 - accuracy: 0.9956 - val_loss: 3.0763 - val_accuracy: 0.6300\n",
            "Epoch 80/200\n",
            "45/45 [==============================] - 0s 3ms/step - loss: 0.0084 - accuracy: 0.9978 - val_loss: 3.4289 - val_accuracy: 0.6100\n",
            "Epoch 81/200\n",
            "45/45 [==============================] - 0s 4ms/step - loss: 0.0165 - accuracy: 0.9933 - val_loss: 3.4368 - val_accuracy: 0.6100\n",
            "Epoch 82/200\n",
            "45/45 [==============================] - 0s 4ms/step - loss: 0.0076 - accuracy: 0.9967 - val_loss: 3.2624 - val_accuracy: 0.6500\n",
            "Epoch 83/200\n",
            "45/45 [==============================] - 0s 4ms/step - loss: 0.0137 - accuracy: 0.9967 - val_loss: 3.2022 - val_accuracy: 0.6600\n",
            "Epoch 84/200\n",
            "45/45 [==============================] - 0s 3ms/step - loss: 0.0135 - accuracy: 0.9967 - val_loss: 3.2670 - val_accuracy: 0.6200\n",
            "Epoch 85/200\n",
            "45/45 [==============================] - 0s 3ms/step - loss: 0.0072 - accuracy: 0.9978 - val_loss: 3.0875 - val_accuracy: 0.6500\n",
            "Epoch 86/200\n",
            "45/45 [==============================] - 0s 3ms/step - loss: 0.0078 - accuracy: 0.9978 - val_loss: 3.1951 - val_accuracy: 0.6300\n",
            "Epoch 87/200\n",
            "45/45 [==============================] - 0s 4ms/step - loss: 0.0069 - accuracy: 0.9978 - val_loss: 3.3191 - val_accuracy: 0.6100\n",
            "Epoch 88/200\n",
            "45/45 [==============================] - 0s 6ms/step - loss: 0.0053 - accuracy: 0.9989 - val_loss: 3.3815 - val_accuracy: 0.6300\n",
            "Epoch 89/200\n",
            "45/45 [==============================] - 0s 5ms/step - loss: 0.0045 - accuracy: 0.9978 - val_loss: 3.2693 - val_accuracy: 0.6700\n",
            "Epoch 90/200\n",
            "45/45 [==============================] - 0s 5ms/step - loss: 0.0242 - accuracy: 0.9956 - val_loss: 3.4984 - val_accuracy: 0.6300\n",
            "Epoch 91/200\n",
            "45/45 [==============================] - 0s 5ms/step - loss: 0.0077 - accuracy: 0.9967 - val_loss: 3.6060 - val_accuracy: 0.5800\n",
            "Epoch 92/200\n",
            "45/45 [==============================] - 0s 5ms/step - loss: 0.0077 - accuracy: 0.9967 - val_loss: 3.7351 - val_accuracy: 0.6300\n",
            "Epoch 93/200\n",
            "45/45 [==============================] - 0s 5ms/step - loss: 0.0256 - accuracy: 0.9944 - val_loss: 3.3931 - val_accuracy: 0.6300\n",
            "Epoch 94/200\n",
            "45/45 [==============================] - 0s 5ms/step - loss: 0.0048 - accuracy: 0.9978 - val_loss: 3.4221 - val_accuracy: 0.6400\n",
            "Epoch 95/200\n",
            "45/45 [==============================] - 0s 5ms/step - loss: 0.0067 - accuracy: 0.9978 - val_loss: 3.3382 - val_accuracy: 0.6400\n",
            "Epoch 96/200\n",
            "45/45 [==============================] - 0s 5ms/step - loss: 0.0058 - accuracy: 0.9978 - val_loss: 3.1858 - val_accuracy: 0.6400\n",
            "Epoch 97/200\n",
            "45/45 [==============================] - 0s 5ms/step - loss: 0.0058 - accuracy: 0.9989 - val_loss: 3.3143 - val_accuracy: 0.6300\n",
            "Epoch 98/200\n",
            "45/45 [==============================] - 0s 5ms/step - loss: 0.0039 - accuracy: 0.9989 - val_loss: 3.4502 - val_accuracy: 0.6200\n",
            "Epoch 99/200\n",
            "45/45 [==============================] - 0s 5ms/step - loss: 0.0057 - accuracy: 0.9978 - val_loss: 3.2072 - val_accuracy: 0.6200\n",
            "Epoch 100/200\n",
            "45/45 [==============================] - 0s 4ms/step - loss: 0.0105 - accuracy: 0.9956 - val_loss: 3.2034 - val_accuracy: 0.6100\n",
            "Epoch 101/200\n",
            "45/45 [==============================] - 0s 4ms/step - loss: 0.0053 - accuracy: 0.9989 - val_loss: 3.1413 - val_accuracy: 0.6200\n",
            "Epoch 102/200\n",
            "45/45 [==============================] - 0s 4ms/step - loss: 0.0053 - accuracy: 0.9989 - val_loss: 3.3049 - val_accuracy: 0.6200\n",
            "Epoch 103/200\n",
            "45/45 [==============================] - 0s 4ms/step - loss: 0.0151 - accuracy: 0.9967 - val_loss: 3.2635 - val_accuracy: 0.6100\n",
            "Epoch 104/200\n",
            "45/45 [==============================] - 0s 4ms/step - loss: 0.0048 - accuracy: 0.9978 - val_loss: 3.2245 - val_accuracy: 0.6400\n",
            "Epoch 105/200\n",
            "45/45 [==============================] - 0s 4ms/step - loss: 0.0048 - accuracy: 0.9978 - val_loss: 3.2574 - val_accuracy: 0.5900\n",
            "Epoch 106/200\n",
            "45/45 [==============================] - 0s 3ms/step - loss: 0.0049 - accuracy: 0.9978 - val_loss: 3.2531 - val_accuracy: 0.6300\n",
            "Epoch 107/200\n",
            "45/45 [==============================] - 0s 4ms/step - loss: 0.0109 - accuracy: 0.9978 - val_loss: 3.6527 - val_accuracy: 0.6100\n",
            "Epoch 108/200\n",
            "45/45 [==============================] - 0s 4ms/step - loss: 0.0039 - accuracy: 0.9989 - val_loss: 3.5965 - val_accuracy: 0.5900\n",
            "Epoch 109/200\n",
            "45/45 [==============================] - 0s 4ms/step - loss: 0.0035 - accuracy: 0.9978 - val_loss: 3.8630 - val_accuracy: 0.6200\n",
            "Epoch 110/200\n",
            "45/45 [==============================] - 0s 3ms/step - loss: 0.0131 - accuracy: 0.9956 - val_loss: 3.5479 - val_accuracy: 0.6300\n",
            "Epoch 111/200\n",
            "45/45 [==============================] - 0s 3ms/step - loss: 0.0055 - accuracy: 0.9989 - val_loss: 3.5198 - val_accuracy: 0.6400\n",
            "Epoch 112/200\n",
            "45/45 [==============================] - 0s 4ms/step - loss: 0.0037 - accuracy: 0.9978 - val_loss: 3.5041 - val_accuracy: 0.6200\n",
            "Epoch 113/200\n",
            "45/45 [==============================] - 0s 4ms/step - loss: 0.0064 - accuracy: 0.9967 - val_loss: 3.7403 - val_accuracy: 0.6700\n",
            "Epoch 114/200\n",
            "45/45 [==============================] - 0s 4ms/step - loss: 0.0039 - accuracy: 0.9989 - val_loss: 3.7349 - val_accuracy: 0.6200\n",
            "Epoch 115/200\n",
            "45/45 [==============================] - 0s 3ms/step - loss: 0.0049 - accuracy: 0.9989 - val_loss: 3.4932 - val_accuracy: 0.6300\n",
            "Epoch 116/200\n",
            "45/45 [==============================] - 0s 4ms/step - loss: 0.0057 - accuracy: 0.9989 - val_loss: 3.7567 - val_accuracy: 0.6100\n",
            "Epoch 117/200\n",
            "45/45 [==============================] - 0s 3ms/step - loss: 0.0049 - accuracy: 0.9989 - val_loss: 3.6449 - val_accuracy: 0.6200\n",
            "Epoch 118/200\n",
            "45/45 [==============================] - 0s 3ms/step - loss: 0.0050 - accuracy: 0.9989 - val_loss: 3.9217 - val_accuracy: 0.6300\n",
            "Epoch 119/200\n",
            "45/45 [==============================] - 0s 4ms/step - loss: 0.0066 - accuracy: 0.9978 - val_loss: 3.5881 - val_accuracy: 0.6400\n",
            "Epoch 120/200\n",
            "45/45 [==============================] - 0s 4ms/step - loss: 0.0298 - accuracy: 0.9922 - val_loss: 3.9273 - val_accuracy: 0.6400\n",
            "Epoch 121/200\n",
            "45/45 [==============================] - 0s 4ms/step - loss: 0.0033 - accuracy: 0.9978 - val_loss: 3.8097 - val_accuracy: 0.6600\n",
            "Epoch 122/200\n",
            "45/45 [==============================] - 0s 4ms/step - loss: 0.0044 - accuracy: 0.9978 - val_loss: 3.7427 - val_accuracy: 0.6500\n",
            "Epoch 123/200\n",
            "45/45 [==============================] - 0s 3ms/step - loss: 0.0097 - accuracy: 0.9944 - val_loss: 4.1320 - val_accuracy: 0.6700\n",
            "Epoch 124/200\n",
            "45/45 [==============================] - 0s 3ms/step - loss: 0.0382 - accuracy: 0.9900 - val_loss: 4.1899 - val_accuracy: 0.5700\n",
            "Epoch 125/200\n",
            "45/45 [==============================] - 0s 4ms/step - loss: 0.0261 - accuracy: 0.9922 - val_loss: 3.8000 - val_accuracy: 0.6100\n",
            "Epoch 126/200\n",
            "45/45 [==============================] - 0s 3ms/step - loss: 0.0192 - accuracy: 0.9956 - val_loss: 3.6672 - val_accuracy: 0.6100\n",
            "Epoch 127/200\n",
            "45/45 [==============================] - 0s 3ms/step - loss: 0.0035 - accuracy: 0.9978 - val_loss: 3.6311 - val_accuracy: 0.6000\n",
            "Epoch 128/200\n",
            "45/45 [==============================] - 0s 4ms/step - loss: 0.0047 - accuracy: 0.9978 - val_loss: 3.8785 - val_accuracy: 0.6300\n",
            "Epoch 129/200\n",
            "45/45 [==============================] - 0s 3ms/step - loss: 0.0164 - accuracy: 0.9944 - val_loss: 3.8129 - val_accuracy: 0.6000\n",
            "Epoch 130/200\n",
            "45/45 [==============================] - 0s 4ms/step - loss: 0.0046 - accuracy: 0.9978 - val_loss: 3.8943 - val_accuracy: 0.6300\n",
            "Epoch 131/200\n",
            "45/45 [==============================] - 0s 4ms/step - loss: 0.0278 - accuracy: 0.9911 - val_loss: 4.0108 - val_accuracy: 0.6300\n",
            "Epoch 132/200\n",
            "45/45 [==============================] - 0s 4ms/step - loss: 0.0041 - accuracy: 0.9989 - val_loss: 3.9855 - val_accuracy: 0.6300\n",
            "Epoch 133/200\n",
            "45/45 [==============================] - 0s 3ms/step - loss: 0.0060 - accuracy: 0.9978 - val_loss: 4.2584 - val_accuracy: 0.6200\n",
            "Epoch 134/200\n",
            "45/45 [==============================] - 0s 4ms/step - loss: 0.0046 - accuracy: 0.9967 - val_loss: 4.2579 - val_accuracy: 0.5800\n",
            "Epoch 135/200\n",
            "45/45 [==============================] - 0s 3ms/step - loss: 0.0039 - accuracy: 0.9989 - val_loss: 4.0450 - val_accuracy: 0.5900\n",
            "Epoch 136/200\n",
            "45/45 [==============================] - 0s 3ms/step - loss: 0.0044 - accuracy: 0.9989 - val_loss: 4.1628 - val_accuracy: 0.6000\n",
            "Epoch 137/200\n",
            "45/45 [==============================] - 0s 4ms/step - loss: 0.0051 - accuracy: 0.9978 - val_loss: 3.9758 - val_accuracy: 0.6300\n",
            "Epoch 138/200\n",
            "45/45 [==============================] - 0s 3ms/step - loss: 0.0081 - accuracy: 0.9967 - val_loss: 4.0554 - val_accuracy: 0.6100\n",
            "Epoch 139/200\n",
            "45/45 [==============================] - 0s 4ms/step - loss: 0.0155 - accuracy: 0.9933 - val_loss: 3.9913 - val_accuracy: 0.6300\n",
            "Epoch 140/200\n",
            "45/45 [==============================] - 0s 4ms/step - loss: 0.0049 - accuracy: 0.9978 - val_loss: 3.8711 - val_accuracy: 0.6200\n",
            "Epoch 141/200\n",
            "45/45 [==============================] - 0s 3ms/step - loss: 0.0036 - accuracy: 0.9989 - val_loss: 4.1283 - val_accuracy: 0.6100\n",
            "Epoch 142/200\n",
            "45/45 [==============================] - 0s 4ms/step - loss: 0.0044 - accuracy: 0.9989 - val_loss: 3.8450 - val_accuracy: 0.6100\n",
            "Epoch 143/200\n",
            "45/45 [==============================] - 0s 3ms/step - loss: 0.0043 - accuracy: 0.9978 - val_loss: 3.8072 - val_accuracy: 0.6200\n",
            "Epoch 144/200\n",
            "45/45 [==============================] - 0s 4ms/step - loss: 0.0027 - accuracy: 0.9989 - val_loss: 4.0334 - val_accuracy: 0.5900\n",
            "Epoch 145/200\n",
            "45/45 [==============================] - 0s 4ms/step - loss: 0.0048 - accuracy: 0.9989 - val_loss: 3.9013 - val_accuracy: 0.6100\n",
            "Epoch 146/200\n",
            "45/45 [==============================] - 0s 4ms/step - loss: 0.0113 - accuracy: 0.9967 - val_loss: 4.3332 - val_accuracy: 0.5800\n",
            "Epoch 147/200\n",
            "45/45 [==============================] - 0s 4ms/step - loss: 0.0062 - accuracy: 0.9978 - val_loss: 4.0306 - val_accuracy: 0.6000\n",
            "Epoch 148/200\n",
            "45/45 [==============================] - 0s 4ms/step - loss: 0.0174 - accuracy: 0.9944 - val_loss: 4.2967 - val_accuracy: 0.6000\n",
            "Epoch 149/200\n",
            "45/45 [==============================] - 0s 4ms/step - loss: 0.0038 - accuracy: 0.9989 - val_loss: 4.2686 - val_accuracy: 0.6100\n",
            "Epoch 150/200\n",
            "45/45 [==============================] - 0s 3ms/step - loss: 0.0041 - accuracy: 0.9978 - val_loss: 4.0686 - val_accuracy: 0.6300\n",
            "Epoch 151/200\n",
            "45/45 [==============================] - 0s 4ms/step - loss: 0.0246 - accuracy: 0.9922 - val_loss: 4.5065 - val_accuracy: 0.5900\n",
            "Epoch 152/200\n",
            "45/45 [==============================] - 0s 4ms/step - loss: 0.0045 - accuracy: 0.9978 - val_loss: 4.1359 - val_accuracy: 0.5900\n",
            "Epoch 153/200\n",
            "45/45 [==============================] - 0s 4ms/step - loss: 0.0035 - accuracy: 0.9989 - val_loss: 4.1200 - val_accuracy: 0.5800\n",
            "Epoch 154/200\n",
            "45/45 [==============================] - 0s 3ms/step - loss: 0.0047 - accuracy: 0.9989 - val_loss: 4.1527 - val_accuracy: 0.5700\n",
            "Epoch 155/200\n",
            "45/45 [==============================] - 0s 4ms/step - loss: 0.0042 - accuracy: 0.9989 - val_loss: 4.1170 - val_accuracy: 0.5800\n",
            "Epoch 156/200\n",
            "45/45 [==============================] - 0s 3ms/step - loss: 0.0047 - accuracy: 0.9989 - val_loss: 4.1947 - val_accuracy: 0.6000\n",
            "Epoch 157/200\n",
            "45/45 [==============================] - 0s 4ms/step - loss: 0.0039 - accuracy: 0.9978 - val_loss: 4.0434 - val_accuracy: 0.6200\n",
            "Epoch 158/200\n",
            "45/45 [==============================] - 0s 5ms/step - loss: 0.0065 - accuracy: 0.9989 - val_loss: 4.1317 - val_accuracy: 0.6000\n",
            "Epoch 159/200\n",
            "45/45 [==============================] - 0s 5ms/step - loss: 0.0036 - accuracy: 0.9989 - val_loss: 4.2724 - val_accuracy: 0.6000\n",
            "Epoch 160/200\n",
            "45/45 [==============================] - 0s 5ms/step - loss: 0.0046 - accuracy: 0.9989 - val_loss: 4.1240 - val_accuracy: 0.6200\n",
            "Epoch 161/200\n",
            "45/45 [==============================] - 0s 5ms/step - loss: 0.0034 - accuracy: 0.9978 - val_loss: 4.3180 - val_accuracy: 0.5900\n",
            "Epoch 162/200\n",
            "45/45 [==============================] - 0s 5ms/step - loss: 0.0047 - accuracy: 0.9978 - val_loss: 4.2668 - val_accuracy: 0.6000\n",
            "Epoch 163/200\n",
            "45/45 [==============================] - 0s 5ms/step - loss: 0.0044 - accuracy: 0.9978 - val_loss: 4.4365 - val_accuracy: 0.5900\n",
            "Epoch 164/200\n",
            "45/45 [==============================] - 0s 6ms/step - loss: 0.0036 - accuracy: 0.9978 - val_loss: 4.3473 - val_accuracy: 0.6100\n",
            "Epoch 165/200\n",
            "45/45 [==============================] - 0s 5ms/step - loss: 0.0038 - accuracy: 0.9978 - val_loss: 4.1711 - val_accuracy: 0.6000\n",
            "Epoch 166/200\n",
            "45/45 [==============================] - 0s 5ms/step - loss: 0.0047 - accuracy: 0.9978 - val_loss: 4.6937 - val_accuracy: 0.5800\n",
            "Epoch 167/200\n",
            "45/45 [==============================] - 0s 5ms/step - loss: 0.0037 - accuracy: 0.9989 - val_loss: 4.3474 - val_accuracy: 0.5800\n",
            "Epoch 168/200\n",
            "45/45 [==============================] - 0s 6ms/step - loss: 0.0040 - accuracy: 0.9989 - val_loss: 4.3368 - val_accuracy: 0.5900\n",
            "Epoch 169/200\n",
            "45/45 [==============================] - 0s 5ms/step - loss: 0.0113 - accuracy: 0.9956 - val_loss: 4.3377 - val_accuracy: 0.5800\n",
            "Epoch 170/200\n",
            "45/45 [==============================] - 0s 5ms/step - loss: 0.0030 - accuracy: 0.9978 - val_loss: 4.2601 - val_accuracy: 0.6500\n",
            "Epoch 171/200\n",
            "45/45 [==============================] - 0s 4ms/step - loss: 0.0045 - accuracy: 0.9989 - val_loss: 4.3252 - val_accuracy: 0.6100\n",
            "Epoch 172/200\n",
            "45/45 [==============================] - 0s 4ms/step - loss: 0.0040 - accuracy: 0.9978 - val_loss: 4.4081 - val_accuracy: 0.6100\n",
            "Epoch 173/200\n",
            "45/45 [==============================] - 0s 4ms/step - loss: 0.0031 - accuracy: 0.9978 - val_loss: 4.2158 - val_accuracy: 0.6000\n",
            "Epoch 174/200\n",
            "45/45 [==============================] - 0s 3ms/step - loss: 0.0036 - accuracy: 0.9978 - val_loss: 4.4132 - val_accuracy: 0.6300\n",
            "Epoch 175/200\n",
            "45/45 [==============================] - 0s 4ms/step - loss: 0.0037 - accuracy: 0.9978 - val_loss: 4.2701 - val_accuracy: 0.6100\n",
            "Epoch 176/200\n",
            "45/45 [==============================] - 0s 4ms/step - loss: 0.0032 - accuracy: 0.9978 - val_loss: 4.3021 - val_accuracy: 0.6100\n",
            "Epoch 177/200\n",
            "45/45 [==============================] - 0s 3ms/step - loss: 0.0051 - accuracy: 0.9989 - val_loss: 4.1881 - val_accuracy: 0.6100\n",
            "Epoch 178/200\n",
            "45/45 [==============================] - 0s 4ms/step - loss: 0.0035 - accuracy: 0.9978 - val_loss: 4.3376 - val_accuracy: 0.6000\n",
            "Epoch 179/200\n",
            "45/45 [==============================] - 0s 3ms/step - loss: 0.0037 - accuracy: 0.9989 - val_loss: 4.4815 - val_accuracy: 0.6100\n",
            "Epoch 180/200\n",
            "45/45 [==============================] - 0s 4ms/step - loss: 0.0027 - accuracy: 0.9978 - val_loss: 4.3187 - val_accuracy: 0.5900\n",
            "Epoch 181/200\n",
            "45/45 [==============================] - 0s 4ms/step - loss: 0.0035 - accuracy: 0.9989 - val_loss: 4.4366 - val_accuracy: 0.5900\n",
            "Epoch 182/200\n",
            "45/45 [==============================] - 0s 4ms/step - loss: 0.0037 - accuracy: 0.9978 - val_loss: 4.3602 - val_accuracy: 0.6300\n",
            "Epoch 183/200\n",
            "45/45 [==============================] - 0s 4ms/step - loss: 0.0033 - accuracy: 0.9989 - val_loss: 4.2610 - val_accuracy: 0.6000\n",
            "Epoch 184/200\n",
            "45/45 [==============================] - 0s 4ms/step - loss: 0.0026 - accuracy: 0.9978 - val_loss: 4.3569 - val_accuracy: 0.6100\n",
            "Epoch 185/200\n",
            "45/45 [==============================] - 0s 3ms/step - loss: 0.0034 - accuracy: 0.9989 - val_loss: 4.2993 - val_accuracy: 0.5900\n",
            "Epoch 186/200\n",
            "45/45 [==============================] - 0s 3ms/step - loss: 0.0027 - accuracy: 0.9978 - val_loss: 4.3339 - val_accuracy: 0.6000\n",
            "Epoch 187/200\n",
            "45/45 [==============================] - 0s 4ms/step - loss: 0.0034 - accuracy: 0.9978 - val_loss: 4.0034 - val_accuracy: 0.6400\n",
            "Epoch 188/200\n",
            "45/45 [==============================] - 0s 4ms/step - loss: 0.0030 - accuracy: 0.9989 - val_loss: 4.2940 - val_accuracy: 0.6300\n",
            "Epoch 189/200\n",
            "45/45 [==============================] - 0s 3ms/step - loss: 0.0052 - accuracy: 0.9967 - val_loss: 4.5417 - val_accuracy: 0.6000\n",
            "Epoch 190/200\n",
            "45/45 [==============================] - 0s 4ms/step - loss: 0.0159 - accuracy: 0.9944 - val_loss: 4.6683 - val_accuracy: 0.5800\n",
            "Epoch 191/200\n",
            "45/45 [==============================] - 0s 3ms/step - loss: 0.0127 - accuracy: 0.9956 - val_loss: 4.6412 - val_accuracy: 0.6100\n",
            "Epoch 192/200\n",
            "45/45 [==============================] - 0s 3ms/step - loss: 0.0137 - accuracy: 0.9956 - val_loss: 4.5001 - val_accuracy: 0.6100\n",
            "Epoch 193/200\n",
            "45/45 [==============================] - 0s 3ms/step - loss: 0.0026 - accuracy: 0.9989 - val_loss: 4.4041 - val_accuracy: 0.6000\n",
            "Epoch 194/200\n",
            "45/45 [==============================] - 0s 3ms/step - loss: 0.0027 - accuracy: 0.9989 - val_loss: 4.4098 - val_accuracy: 0.6100\n",
            "Epoch 195/200\n",
            "45/45 [==============================] - 0s 3ms/step - loss: 0.0026 - accuracy: 0.9989 - val_loss: 4.4272 - val_accuracy: 0.6100\n",
            "Epoch 196/200\n",
            "45/45 [==============================] - 0s 4ms/step - loss: 0.0026 - accuracy: 0.9978 - val_loss: 4.6613 - val_accuracy: 0.5900\n",
            "Epoch 197/200\n",
            "45/45 [==============================] - 0s 3ms/step - loss: 0.0027 - accuracy: 0.9978 - val_loss: 4.7127 - val_accuracy: 0.5900\n",
            "Epoch 198/200\n",
            "45/45 [==============================] - 0s 3ms/step - loss: 0.0107 - accuracy: 0.9944 - val_loss: 4.6126 - val_accuracy: 0.6100\n",
            "Epoch 199/200\n",
            "45/45 [==============================] - 0s 3ms/step - loss: 0.0129 - accuracy: 0.9967 - val_loss: 5.3569 - val_accuracy: 0.6000\n",
            "Epoch 200/200\n",
            "45/45 [==============================] - 0s 4ms/step - loss: 0.0431 - accuracy: 0.9900 - val_loss: 4.3009 - val_accuracy: 0.6700\n"
          ]
        },
        {
          "output_type": "display_data",
          "data": {
            "text/plain": [
              "<Figure size 640x480 with 1 Axes>"
            ],
            "image/png": "[encoded data removed]"
          },
          "metadata": {}
        }
      ]
    },
    {
      "cell_type": "markdown",
      "source": [
        " # Распознавание выбранной песни"
      ],
      "metadata": {
        "id": "tNTJXt69zHSf"
      }
    },
    {
      "cell_type": "code",
      "source": [
        "#Выбираем песню для распознавания\n",
        "songname = '/content/genres/metal/metal.00001.au'\n",
        "#Получаем аудио сигнал\n",
        "y, sr = librosa.load(songname, mono=True, duration=30)\n",
        "#Параметризуем сигнал\n",
        "out = get_features(y, sr)"
      ],
      "metadata": {
        "id": "D4AbN-JAzLpp"
      },
      "execution_count": null,
      "outputs": []
    },
    {
      "cell_type": "code",
      "source": [
        "#Добавляем одну размерность, этого требует model.predict\n",
        "out = np.array(out).reshape(1,37)"
      ],
      "metadata": {
        "id": "Qb78FTa3zObD"
      },
      "execution_count": null,
      "outputs": []
    },
    {
      "cell_type": "code",
      "source": [
        "#Проверяем размерность\n",
        "out.shape"
      ],
      "metadata": {
        "colab": {
          "base_uri": "https://localhost:8080/"
        },
        "id": "LfRXbcHNzVLg",
        "outputId": "76155dbc-9c05-41d1-f0ed-b9cf1a81d826"
      },
      "execution_count": null,
      "outputs": [
        {
          "output_type": "execute_result",
          "data": {
            "text/plain": [
              "(1, 37)"
            ]
          },
          "metadata": {},
          "execution_count": 19
        }
      ]
    },
    {
      "cell_type": "code",
      "source": [
        "#Делаем преобразование\n",
        "#С помощью scaler, обученного на обучающей выборке\n",
        "out = scaler.transform(out)"
      ],
      "metadata": {
        "id": "bGjK0f8XzXJZ"
      },
      "execution_count": null,
      "outputs": []
    },
    {
      "cell_type": "code",
      "source": [
        "#Выводим нормированный вектор\n",
        "print(out)"
      ],
      "metadata": {
        "colab": {
          "base_uri": "https://localhost:8080/"
        },
        "id": "QvXwrL_dzbaq",
        "outputId": "610f7ef8-0430-4e10-81ec-0eea5065b0dd"
      },
      "execution_count": null,
      "outputs": [
        {
          "output_type": "stream",
          "name": "stdout",
          "text": [
            "[[-0.51206952  1.00757645  0.71901584  0.93087949  1.17819022  0.64234187\n",
            "  -1.10849885 -0.30166966  0.63312934  0.74176512  0.60215497  0.2975261\n",
            "   1.13439306 -0.08630233  0.4302566   0.25473148  1.0381528  -0.90242795\n",
            "   1.98611208 -0.66180177  1.04496818 -1.11181523  1.29244889 -1.03136291\n",
            "   1.10024448  0.40489946  1.68118446  1.01712772  1.77548103  0.55559628\n",
            "   0.67478655  0.91388353  0.09812061  0.64106944  0.43290391  1.14262125\n",
            "   0.81631591]]\n"
          ]
        }
      ]
    },
    {
      "cell_type": "code",
      "source": [
        "#Делаем predict\n",
        "y = model.predict(out)"
      ],
      "metadata": {
        "colab": {
          "base_uri": "https://localhost:8080/"
        },
        "id": "u9NniPC4zcO4",
        "outputId": "f20db254-6c10-435f-e570-94253bfb8911"
      },
      "execution_count": null,
      "outputs": [
        {
          "output_type": "stream",
          "name": "stdout",
          "text": [
            "1/1 [==============================] - 0s 118ms/step\n"
          ]
        }
      ]
    },
    {
      "cell_type": "code",
      "source": [
        "#Выводим выход\n",
        "print(y)\n",
        "#И распознанный класс\n",
        "print(np.argmax(y))\n",
        "#Проверяем правильный индекс исходного жанра\n",
        "print(genres.index(\"metal\"))"
      ],
      "metadata": {
        "colab": {
          "base_uri": "https://localhost:8080/"
        },
        "id": "6d7AUG2ozgEm",
        "outputId": "b0bad030-0132-4bdc-e93e-1feb73896bd9"
      },
      "execution_count": null,
      "outputs": [
        {
          "output_type": "stream",
          "name": "stdout",
          "text": [
            "[[1.1080226e-23 2.2060073e-21 1.2086951e-29 4.0303440e-16 2.4644429e-12\n",
            "  1.0000000e+00 1.5641910e-11 4.8638935e-25 2.8414554e-13 2.8513558e-22]]\n",
            "5\n",
            "5\n"
          ]
        }
      ]
    }
  ]
}

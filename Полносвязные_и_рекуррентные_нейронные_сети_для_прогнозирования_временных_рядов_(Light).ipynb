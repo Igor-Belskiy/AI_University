{
  "nbformat": 4,
  "nbformat_minor": 0,
  "metadata": {
    "colab": {
      "name": "Полносвязные и рекуррентные нейронные сети для прогнозирования временных рядов (Light).ipynb",
      "provenance": [],
      "collapsed_sections": [],
      "authorship_tag": "ABX9TyMZUC7ZIb5ZjaENadWVtFbd",
      "include_colab_link": true
    },
    "kernelspec": {
      "name": "python3",
      "display_name": "Python 3"
    },
    "language_info": {
      "name": "python"
    },
    "accelerator": "TPU",
    "gpuClass": "standard"
  },
  "cells": [
    {
      "cell_type": "markdown",
      "metadata": {
        "id": "view-in-github",
        "colab_type": "text"
      },
      "source": [
        "<a href=\"https://colab.research.google.com/github/Igor-Belskiy/AI_University/blob/main/%D0%9F%D0%BE%D0%BB%D0%BD%D0%BE%D1%81%D0%B2%D1%8F%D0%B7%D0%BD%D1%8B%D0%B5_%D0%B8_%D1%80%D0%B5%D0%BA%D1%83%D1%80%D1%80%D0%B5%D0%BD%D1%82%D0%BD%D1%8B%D0%B5_%D0%BD%D0%B5%D0%B9%D1%80%D0%BE%D0%BD%D0%BD%D1%8B%D0%B5_%D1%81%D0%B5%D1%82%D0%B8_%D0%B4%D0%BB%D1%8F_%D0%BF%D1%80%D0%BE%D0%B3%D0%BD%D0%BE%D0%B7%D0%B8%D1%80%D0%BE%D0%B2%D0%B0%D0%BD%D0%B8%D1%8F_%D0%B2%D1%80%D0%B5%D0%BC%D0%B5%D0%BD%D0%BD%D1%8B%D1%85_%D1%80%D1%8F%D0%B4%D0%BE%D0%B2_(Light).ipynb\" target=\"_parent\"><img src=\"https://colab.research.google.com/assets/colab-badge.svg\" alt=\"Open In Colab\"/></a>"
      ]
    },
    {
      "cell_type": "markdown",
      "source": [
        "Работа осуществляется с базой акции Лукойла.\n",
        "\n",
        "1. Обучите простую полносвязную сеть для прогнозирования временного ряда. Используйте только столбец close и визуализируйте результат.\n",
        "\n",
        "2. Обучите такую же архитектуру сети на прогнозирование на 10 шагов вперёд прямым способом и визуализируйте результат.\n",
        "\n",
        "3. Постройте графики сравнения предсказания с оригинальным сигналом по всем 10 шагам предсказания (10 графиков на разных отдельных осях).\n",
        "\n",
        "4. Сделайте те же задания с другой сетью, которая будет использовать Conv1D или LSTM слой"
      ],
      "metadata": {
        "id": "OEh1CnyGsQCm"
      }
    },
    {
      "cell_type": "markdown",
      "source": [
        "# Загрузка библиотек и данных"
      ],
      "metadata": {
        "id": "IduscgxjgEkG"
      }
    },
    {
      "cell_type": "code",
      "execution_count": 1,
      "metadata": {
        "id": "lC9wI33IkPbW"
      },
      "outputs": [],
      "source": [
        "#Загружаем библиотеки\n",
        "\n",
        "import pandas as pd #Пандас\n",
        "import matplotlib.pyplot as plt #Отрисовка графиков\n",
        "from tensorflow.keras.utils import to_categorical \n",
        "import numpy as np #Numpy\n",
        "from tensorflow.keras.optimizers import Adam #Оптимизатор\n",
        "from tensorflow.keras.models import Sequential, Model #Два варианты моделей\n",
        "from tensorflow.keras.layers import concatenate, Input, Dense, Dropout, BatchNormalization, Flatten, Conv1D, Conv2D, LSTM, GlobalMaxPooling1D, MaxPooling1D, RepeatVector #Стандартные слои\n",
        "from sklearn.preprocessing import StandardScaler, MinMaxScaler #Нормировщики\n",
        "from tensorflow.keras.preprocessing.sequence import TimeseriesGenerator # для генерации выборки временных рядов\n",
        "\n",
        "import warnings\n",
        "warnings.filterwarnings(\"ignore\")\n",
        "# Рисовать графики сразу же\n",
        "%matplotlib inline"
      ]
    },
    {
      "cell_type": "code",
      "source": [
        "!rm -rf *      # Удаление всех каталогов и файлов в текущей директории"
      ],
      "metadata": {
        "id": "xEeY1y74f4nO"
      },
      "execution_count": 2,
      "outputs": []
    },
    {
      "cell_type": "code",
      "source": [
        "# Загружаем данные в колаб\n",
        "\n",
        "import gdown\n",
        "gdown.download('https://drive.google.com/uc?id=1g6CCPyp_UejO9O6Lon6KdL3fOVGGsCxz', '16_17.csv', quiet=False)\n",
        "gdown.download('https://drive.google.com/uc?id=1Xk250F0NjfIaTrMgCFiEmo-qQ1ydf8Gq', '18_19.csv', quiet=False)"
      ],
      "metadata": {
        "id": "XZZ1biT3f9ws",
        "colab": {
          "base_uri": "https://localhost:8080/",
          "height": 190
        },
        "outputId": "207ea3a3-eb27-4ec0-bf29-ae18318c4932"
      },
      "execution_count": 3,
      "outputs": [
        {
          "output_type": "stream",
          "name": "stderr",
          "text": [
            "Downloading...\n",
            "From: https://drive.google.com/uc?id=1g6CCPyp_UejO9O6Lon6KdL3fOVGGsCxz\n",
            "To: /content/16_17.csv\n",
            "100%|██████████| 12.9M/12.9M [00:00<00:00, 140MB/s]\n",
            "Downloading...\n",
            "From: https://drive.google.com/uc?id=1Xk250F0NjfIaTrMgCFiEmo-qQ1ydf8Gq\n",
            "To: /content/18_19.csv\n",
            "100%|██████████| 10.7M/10.7M [00:00<00:00, 64.0MB/s]\n"
          ]
        },
        {
          "output_type": "execute_result",
          "data": {
            "text/plain": [
              "'18_19.csv'"
            ],
            "application/vnd.google.colaboratory.intrinsic+json": {
              "type": "string"
            }
          },
          "metadata": {},
          "execution_count": 3
        }
      ]
    },
    {
      "cell_type": "code",
      "source": [
        "#Считываем данные с помощью pandas\n",
        "\n",
        "base_data_18_19 = pd.read_csv('/content/18_19.csv', sep=';')\n",
        "base_data_16_17 = pd.read_csv('/content/16_17.csv', sep=';')"
      ],
      "metadata": {
        "id": "PUhrXoAKFL3i"
      },
      "execution_count": 4,
      "outputs": []
    },
    {
      "cell_type": "code",
      "source": [
        "#Выводим пять первых строк\n",
        "base_data_18_19.head()"
      ],
      "metadata": {
        "colab": {
          "base_uri": "https://localhost:8080/",
          "height": 206
        },
        "id": "d6Jb_YptFbam",
        "outputId": "7b09f04a-6599-4b12-d717-a9df02e1c04f"
      },
      "execution_count": 5,
      "outputs": [
        {
          "output_type": "execute_result",
          "data": {
            "text/plain": [
              "         DATE      TIME    OPEN     MAX     MIN   CLOSE  VOLUME\n",
              "0  03.01.2018  10:00:00  3341.0  3356.0  3340.0  3355.0    6088\n",
              "1  03.01.2018  10:01:00  3355.0  3359.0  3353.0  3353.0    1624\n",
              "2  03.01.2018  10:02:00  3351.5  3357.5  3351.5  3357.5     722\n",
              "3  03.01.2018  10:03:00  3354.5  3360.0  3354.5  3358.0    3034\n",
              "4  03.01.2018  10:04:00  3358.0  3360.0  3351.5  3360.0    1427"
            ],
            "text/html": [
              "\n",
              "  <div id=\"df-d606984c-1b9f-4668-bbea-2966438fab15\">\n",
              "    <div class=\"colab-df-container\">\n",
              "      <div>\n",
              "<style scoped>\n",
              "    .dataframe tbody tr th:only-of-type {\n",
              "        vertical-align: middle;\n",
              "    }\n",
              "\n",
              "    .dataframe tbody tr th {\n",
              "        vertical-align: top;\n",
              "    }\n",
              "\n",
              "    .dataframe thead th {\n",
              "        text-align: right;\n",
              "    }\n",
              "</style>\n",
              "<table border=\"1\" class=\"dataframe\">\n",
              "  <thead>\n",
              "    <tr style=\"text-align: right;\">\n",
              "      <th></th>\n",
              "      <th>DATE</th>\n",
              "      <th>TIME</th>\n",
              "      <th>OPEN</th>\n",
              "      <th>MAX</th>\n",
              "      <th>MIN</th>\n",
              "      <th>CLOSE</th>\n",
              "      <th>VOLUME</th>\n",
              "    </tr>\n",
              "  </thead>\n",
              "  <tbody>\n",
              "    <tr>\n",
              "      <th>0</th>\n",
              "      <td>03.01.2018</td>\n",
              "      <td>10:00:00</td>\n",
              "      <td>3341.0</td>\n",
              "      <td>3356.0</td>\n",
              "      <td>3340.0</td>\n",
              "      <td>3355.0</td>\n",
              "      <td>6088</td>\n",
              "    </tr>\n",
              "    <tr>\n",
              "      <th>1</th>\n",
              "      <td>03.01.2018</td>\n",
              "      <td>10:01:00</td>\n",
              "      <td>3355.0</td>\n",
              "      <td>3359.0</td>\n",
              "      <td>3353.0</td>\n",
              "      <td>3353.0</td>\n",
              "      <td>1624</td>\n",
              "    </tr>\n",
              "    <tr>\n",
              "      <th>2</th>\n",
              "      <td>03.01.2018</td>\n",
              "      <td>10:02:00</td>\n",
              "      <td>3351.5</td>\n",
              "      <td>3357.5</td>\n",
              "      <td>3351.5</td>\n",
              "      <td>3357.5</td>\n",
              "      <td>722</td>\n",
              "    </tr>\n",
              "    <tr>\n",
              "      <th>3</th>\n",
              "      <td>03.01.2018</td>\n",
              "      <td>10:03:00</td>\n",
              "      <td>3354.5</td>\n",
              "      <td>3360.0</td>\n",
              "      <td>3354.5</td>\n",
              "      <td>3358.0</td>\n",
              "      <td>3034</td>\n",
              "    </tr>\n",
              "    <tr>\n",
              "      <th>4</th>\n",
              "      <td>03.01.2018</td>\n",
              "      <td>10:04:00</td>\n",
              "      <td>3358.0</td>\n",
              "      <td>3360.0</td>\n",
              "      <td>3351.5</td>\n",
              "      <td>3360.0</td>\n",
              "      <td>1427</td>\n",
              "    </tr>\n",
              "  </tbody>\n",
              "</table>\n",
              "</div>\n",
              "      <button class=\"colab-df-convert\" onclick=\"convertToInteractive('df-d606984c-1b9f-4668-bbea-2966438fab15')\"\n",
              "              title=\"Convert this dataframe to an interactive table.\"\n",
              "              style=\"display:none;\">\n",
              "        \n",
              "  <svg xmlns=\"http://www.w3.org/2000/svg\" height=\"24px\"viewBox=\"0 0 24 24\"\n",
              "       width=\"24px\">\n",
              "    <path d=\"M0 0h24v24H0V0z\" fill=\"none\"/>\n",
              "    <path d=\"M18.56 5.44l.94 2.06.94-2.06 2.06-.94-2.06-.94-.94-2.06-.94 2.06-2.06.94zm-11 1L8.5 8.5l.94-2.06 2.06-.94-2.06-.94L8.5 2.5l-.94 2.06-2.06.94zm10 10l.94 2.06.94-2.06 2.06-.94-2.06-.94-.94-2.06-.94 2.06-2.06.94z\"/><path d=\"M17.41 7.96l-1.37-1.37c-.4-.4-.92-.59-1.43-.59-.52 0-1.04.2-1.43.59L10.3 9.45l-7.72 7.72c-.78.78-.78 2.05 0 2.83L4 21.41c.39.39.9.59 1.41.59.51 0 1.02-.2 1.41-.59l7.78-7.78 2.81-2.81c.8-.78.8-2.07 0-2.86zM5.41 20L4 18.59l7.72-7.72 1.47 1.35L5.41 20z\"/>\n",
              "  </svg>\n",
              "      </button>\n",
              "      \n",
              "  <style>\n",
              "    .colab-df-container {\n",
              "      display:flex;\n",
              "      flex-wrap:wrap;\n",
              "      gap: 12px;\n",
              "    }\n",
              "\n",
              "    .colab-df-convert {\n",
              "      background-color: #E8F0FE;\n",
              "      border: none;\n",
              "      border-radius: 50%;\n",
              "      cursor: pointer;\n",
              "      display: none;\n",
              "      fill: #1967D2;\n",
              "      height: 32px;\n",
              "      padding: 0 0 0 0;\n",
              "      width: 32px;\n",
              "    }\n",
              "\n",
              "    .colab-df-convert:hover {\n",
              "      background-color: #E2EBFA;\n",
              "      box-shadow: 0px 1px 2px rgba(60, 64, 67, 0.3), 0px 1px 3px 1px rgba(60, 64, 67, 0.15);\n",
              "      fill: #174EA6;\n",
              "    }\n",
              "\n",
              "    [theme=dark] .colab-df-convert {\n",
              "      background-color: #3B4455;\n",
              "      fill: #D2E3FC;\n",
              "    }\n",
              "\n",
              "    [theme=dark] .colab-df-convert:hover {\n",
              "      background-color: #434B5C;\n",
              "      box-shadow: 0px 1px 3px 1px rgba(0, 0, 0, 0.15);\n",
              "      filter: drop-shadow(0px 1px 2px rgba(0, 0, 0, 0.3));\n",
              "      fill: #FFFFFF;\n",
              "    }\n",
              "  </style>\n",
              "\n",
              "      <script>\n",
              "        const buttonEl =\n",
              "          document.querySelector('#df-d606984c-1b9f-4668-bbea-2966438fab15 button.colab-df-convert');\n",
              "        buttonEl.style.display =\n",
              "          google.colab.kernel.accessAllowed ? 'block' : 'none';\n",
              "\n",
              "        async function convertToInteractive(key) {\n",
              "          const element = document.querySelector('#df-d606984c-1b9f-4668-bbea-2966438fab15');\n",
              "          const dataTable =\n",
              "            await google.colab.kernel.invokeFunction('convertToInteractive',\n",
              "                                                     [key], {});\n",
              "          if (!dataTable) return;\n",
              "\n",
              "          const docLinkHtml = 'Like what you see? Visit the ' +\n",
              "            '<a target=\"_blank\" href=https://colab.research.google.com/notebooks/data_table.ipynb>data table notebook</a>'\n",
              "            + ' to learn more about interactive tables.';\n",
              "          element.innerHTML = '';\n",
              "          dataTable['output_type'] = 'display_data';\n",
              "          await google.colab.output.renderOutput(dataTable, element);\n",
              "          const docLink = document.createElement('div');\n",
              "          docLink.innerHTML = docLinkHtml;\n",
              "          element.appendChild(docLink);\n",
              "        }\n",
              "      </script>\n",
              "    </div>\n",
              "  </div>\n",
              "  "
            ]
          },
          "metadata": {},
          "execution_count": 5
        }
      ]
    },
    {
      "cell_type": "code",
      "source": [
        "base_data_16_17.head()"
      ],
      "metadata": {
        "colab": {
          "base_uri": "https://localhost:8080/",
          "height": 206
        },
        "id": "m0sIW2WsJBNW",
        "outputId": "28f6903d-83e6-4858-bef6-95c576683037"
      },
      "execution_count": 6,
      "outputs": [
        {
          "output_type": "execute_result",
          "data": {
            "text/plain": [
              "         DATE      TIME    OPEN     MAX     MIN   CLOSE  VOLUME\n",
              "0  04.01.2016  10:00:00  2351.0  2355.8  2350.0  2350.0    2547\n",
              "1  04.01.2016  10:01:00  2352.9  2355.7  2350.0  2355.7     195\n",
              "2  04.01.2016  10:02:00  2355.6  2356.0  2351.4  2354.1     257\n",
              "3  04.01.2016  10:03:00  2354.5  2355.0  2351.2  2353.7     763\n",
              "4  04.01.2016  10:04:00  2353.1  2353.9  2353.1  2353.6     231"
            ],
            "text/html": [
              "\n",
              "  <div id=\"df-26b7ecb0-7077-4a2d-8282-58fa1e4158c9\">\n",
              "    <div class=\"colab-df-container\">\n",
              "      <div>\n",
              "<style scoped>\n",
              "    .dataframe tbody tr th:only-of-type {\n",
              "        vertical-align: middle;\n",
              "    }\n",
              "\n",
              "    .dataframe tbody tr th {\n",
              "        vertical-align: top;\n",
              "    }\n",
              "\n",
              "    .dataframe thead th {\n",
              "        text-align: right;\n",
              "    }\n",
              "</style>\n",
              "<table border=\"1\" class=\"dataframe\">\n",
              "  <thead>\n",
              "    <tr style=\"text-align: right;\">\n",
              "      <th></th>\n",
              "      <th>DATE</th>\n",
              "      <th>TIME</th>\n",
              "      <th>OPEN</th>\n",
              "      <th>MAX</th>\n",
              "      <th>MIN</th>\n",
              "      <th>CLOSE</th>\n",
              "      <th>VOLUME</th>\n",
              "    </tr>\n",
              "  </thead>\n",
              "  <tbody>\n",
              "    <tr>\n",
              "      <th>0</th>\n",
              "      <td>04.01.2016</td>\n",
              "      <td>10:00:00</td>\n",
              "      <td>2351.0</td>\n",
              "      <td>2355.8</td>\n",
              "      <td>2350.0</td>\n",
              "      <td>2350.0</td>\n",
              "      <td>2547</td>\n",
              "    </tr>\n",
              "    <tr>\n",
              "      <th>1</th>\n",
              "      <td>04.01.2016</td>\n",
              "      <td>10:01:00</td>\n",
              "      <td>2352.9</td>\n",
              "      <td>2355.7</td>\n",
              "      <td>2350.0</td>\n",
              "      <td>2355.7</td>\n",
              "      <td>195</td>\n",
              "    </tr>\n",
              "    <tr>\n",
              "      <th>2</th>\n",
              "      <td>04.01.2016</td>\n",
              "      <td>10:02:00</td>\n",
              "      <td>2355.6</td>\n",
              "      <td>2356.0</td>\n",
              "      <td>2351.4</td>\n",
              "      <td>2354.1</td>\n",
              "      <td>257</td>\n",
              "    </tr>\n",
              "    <tr>\n",
              "      <th>3</th>\n",
              "      <td>04.01.2016</td>\n",
              "      <td>10:03:00</td>\n",
              "      <td>2354.5</td>\n",
              "      <td>2355.0</td>\n",
              "      <td>2351.2</td>\n",
              "      <td>2353.7</td>\n",
              "      <td>763</td>\n",
              "    </tr>\n",
              "    <tr>\n",
              "      <th>4</th>\n",
              "      <td>04.01.2016</td>\n",
              "      <td>10:04:00</td>\n",
              "      <td>2353.1</td>\n",
              "      <td>2353.9</td>\n",
              "      <td>2353.1</td>\n",
              "      <td>2353.6</td>\n",
              "      <td>231</td>\n",
              "    </tr>\n",
              "  </tbody>\n",
              "</table>\n",
              "</div>\n",
              "      <button class=\"colab-df-convert\" onclick=\"convertToInteractive('df-26b7ecb0-7077-4a2d-8282-58fa1e4158c9')\"\n",
              "              title=\"Convert this dataframe to an interactive table.\"\n",
              "              style=\"display:none;\">\n",
              "        \n",
              "  <svg xmlns=\"http://www.w3.org/2000/svg\" height=\"24px\"viewBox=\"0 0 24 24\"\n",
              "       width=\"24px\">\n",
              "    <path d=\"M0 0h24v24H0V0z\" fill=\"none\"/>\n",
              "    <path d=\"M18.56 5.44l.94 2.06.94-2.06 2.06-.94-2.06-.94-.94-2.06-.94 2.06-2.06.94zm-11 1L8.5 8.5l.94-2.06 2.06-.94-2.06-.94L8.5 2.5l-.94 2.06-2.06.94zm10 10l.94 2.06.94-2.06 2.06-.94-2.06-.94-.94-2.06-.94 2.06-2.06.94z\"/><path d=\"M17.41 7.96l-1.37-1.37c-.4-.4-.92-.59-1.43-.59-.52 0-1.04.2-1.43.59L10.3 9.45l-7.72 7.72c-.78.78-.78 2.05 0 2.83L4 21.41c.39.39.9.59 1.41.59.51 0 1.02-.2 1.41-.59l7.78-7.78 2.81-2.81c.8-.78.8-2.07 0-2.86zM5.41 20L4 18.59l7.72-7.72 1.47 1.35L5.41 20z\"/>\n",
              "  </svg>\n",
              "      </button>\n",
              "      \n",
              "  <style>\n",
              "    .colab-df-container {\n",
              "      display:flex;\n",
              "      flex-wrap:wrap;\n",
              "      gap: 12px;\n",
              "    }\n",
              "\n",
              "    .colab-df-convert {\n",
              "      background-color: #E8F0FE;\n",
              "      border: none;\n",
              "      border-radius: 50%;\n",
              "      cursor: pointer;\n",
              "      display: none;\n",
              "      fill: #1967D2;\n",
              "      height: 32px;\n",
              "      padding: 0 0 0 0;\n",
              "      width: 32px;\n",
              "    }\n",
              "\n",
              "    .colab-df-convert:hover {\n",
              "      background-color: #E2EBFA;\n",
              "      box-shadow: 0px 1px 2px rgba(60, 64, 67, 0.3), 0px 1px 3px 1px rgba(60, 64, 67, 0.15);\n",
              "      fill: #174EA6;\n",
              "    }\n",
              "\n",
              "    [theme=dark] .colab-df-convert {\n",
              "      background-color: #3B4455;\n",
              "      fill: #D2E3FC;\n",
              "    }\n",
              "\n",
              "    [theme=dark] .colab-df-convert:hover {\n",
              "      background-color: #434B5C;\n",
              "      box-shadow: 0px 1px 3px 1px rgba(0, 0, 0, 0.15);\n",
              "      filter: drop-shadow(0px 1px 2px rgba(0, 0, 0, 0.3));\n",
              "      fill: #FFFFFF;\n",
              "    }\n",
              "  </style>\n",
              "\n",
              "      <script>\n",
              "        const buttonEl =\n",
              "          document.querySelector('#df-26b7ecb0-7077-4a2d-8282-58fa1e4158c9 button.colab-df-convert');\n",
              "        buttonEl.style.display =\n",
              "          google.colab.kernel.accessAllowed ? 'block' : 'none';\n",
              "\n",
              "        async function convertToInteractive(key) {\n",
              "          const element = document.querySelector('#df-26b7ecb0-7077-4a2d-8282-58fa1e4158c9');\n",
              "          const dataTable =\n",
              "            await google.colab.kernel.invokeFunction('convertToInteractive',\n",
              "                                                     [key], {});\n",
              "          if (!dataTable) return;\n",
              "\n",
              "          const docLinkHtml = 'Like what you see? Visit the ' +\n",
              "            '<a target=\"_blank\" href=https://colab.research.google.com/notebooks/data_table.ipynb>data table notebook</a>'\n",
              "            + ' to learn more about interactive tables.';\n",
              "          element.innerHTML = '';\n",
              "          dataTable['output_type'] = 'display_data';\n",
              "          await google.colab.output.renderOutput(dataTable, element);\n",
              "          const docLink = document.createElement('div');\n",
              "          docLink.innerHTML = docLinkHtml;\n",
              "          element.appendChild(docLink);\n",
              "        }\n",
              "      </script>\n",
              "    </div>\n",
              "  </div>\n",
              "  "
            ]
          },
          "metadata": {},
          "execution_count": 6
        }
      ]
    },
    {
      "cell_type": "code",
      "source": [
        "# Смотрим размер загруженных из файлов данных\n",
        "\n",
        "print(base_data_16_17.shape)\n",
        "print(base_data_18_19.shape)"
      ],
      "metadata": {
        "colab": {
          "base_uri": "https://localhost:8080/"
        },
        "id": "9CxQReYdJeHV",
        "outputId": "9dcb66e9-d369-4107-a6e6-575d364678da"
      },
      "execution_count": 7,
      "outputs": [
        {
          "output_type": "stream",
          "name": "stdout",
          "text": [
            "(263925, 7)\n",
            "(217947, 7)\n"
          ]
        }
      ]
    },
    {
      "cell_type": "code",
      "source": [
        "data = pd.concat([base_data_16_17, base_data_18_19])  # Объединяем базы в одну\n",
        "\n",
        "data.shape"
      ],
      "metadata": {
        "colab": {
          "base_uri": "https://localhost:8080/"
        },
        "id": "gGOLNsppJwht",
        "outputId": "70398b10-bc8f-4897-fe5b-d8fce0959b7a"
      },
      "execution_count": 8,
      "outputs": [
        {
          "output_type": "execute_result",
          "data": {
            "text/plain": [
              "(481872, 7)"
            ]
          },
          "metadata": {},
          "execution_count": 8
        }
      ]
    },
    {
      "cell_type": "code",
      "source": [
        "#Оставляем для дальнейшей работы только последние 5 столбцов\n",
        "data = data.iloc[:,2:]\n",
        "\n",
        "data.head()"
      ],
      "metadata": {
        "colab": {
          "base_uri": "https://localhost:8080/",
          "height": 206
        },
        "id": "rtd43YrcFg6b",
        "outputId": "e5bb2c61-cf26-4ed3-b666-e837be2b7170"
      },
      "execution_count": 9,
      "outputs": [
        {
          "output_type": "execute_result",
          "data": {
            "text/plain": [
              "     OPEN     MAX     MIN   CLOSE  VOLUME\n",
              "0  2351.0  2355.8  2350.0  2350.0    2547\n",
              "1  2352.9  2355.7  2350.0  2355.7     195\n",
              "2  2355.6  2356.0  2351.4  2354.1     257\n",
              "3  2354.5  2355.0  2351.2  2353.7     763\n",
              "4  2353.1  2353.9  2353.1  2353.6     231"
            ],
            "text/html": [
              "\n",
              "  <div id=\"df-916222ab-b218-4157-9219-7e308d60180d\">\n",
              "    <div class=\"colab-df-container\">\n",
              "      <div>\n",
              "<style scoped>\n",
              "    .dataframe tbody tr th:only-of-type {\n",
              "        vertical-align: middle;\n",
              "    }\n",
              "\n",
              "    .dataframe tbody tr th {\n",
              "        vertical-align: top;\n",
              "    }\n",
              "\n",
              "    .dataframe thead th {\n",
              "        text-align: right;\n",
              "    }\n",
              "</style>\n",
              "<table border=\"1\" class=\"dataframe\">\n",
              "  <thead>\n",
              "    <tr style=\"text-align: right;\">\n",
              "      <th></th>\n",
              "      <th>OPEN</th>\n",
              "      <th>MAX</th>\n",
              "      <th>MIN</th>\n",
              "      <th>CLOSE</th>\n",
              "      <th>VOLUME</th>\n",
              "    </tr>\n",
              "  </thead>\n",
              "  <tbody>\n",
              "    <tr>\n",
              "      <th>0</th>\n",
              "      <td>2351.0</td>\n",
              "      <td>2355.8</td>\n",
              "      <td>2350.0</td>\n",
              "      <td>2350.0</td>\n",
              "      <td>2547</td>\n",
              "    </tr>\n",
              "    <tr>\n",
              "      <th>1</th>\n",
              "      <td>2352.9</td>\n",
              "      <td>2355.7</td>\n",
              "      <td>2350.0</td>\n",
              "      <td>2355.7</td>\n",
              "      <td>195</td>\n",
              "    </tr>\n",
              "    <tr>\n",
              "      <th>2</th>\n",
              "      <td>2355.6</td>\n",
              "      <td>2356.0</td>\n",
              "      <td>2351.4</td>\n",
              "      <td>2354.1</td>\n",
              "      <td>257</td>\n",
              "    </tr>\n",
              "    <tr>\n",
              "      <th>3</th>\n",
              "      <td>2354.5</td>\n",
              "      <td>2355.0</td>\n",
              "      <td>2351.2</td>\n",
              "      <td>2353.7</td>\n",
              "      <td>763</td>\n",
              "    </tr>\n",
              "    <tr>\n",
              "      <th>4</th>\n",
              "      <td>2353.1</td>\n",
              "      <td>2353.9</td>\n",
              "      <td>2353.1</td>\n",
              "      <td>2353.6</td>\n",
              "      <td>231</td>\n",
              "    </tr>\n",
              "  </tbody>\n",
              "</table>\n",
              "</div>\n",
              "      <button class=\"colab-df-convert\" onclick=\"convertToInteractive('df-916222ab-b218-4157-9219-7e308d60180d')\"\n",
              "              title=\"Convert this dataframe to an interactive table.\"\n",
              "              style=\"display:none;\">\n",
              "        \n",
              "  <svg xmlns=\"http://www.w3.org/2000/svg\" height=\"24px\"viewBox=\"0 0 24 24\"\n",
              "       width=\"24px\">\n",
              "    <path d=\"M0 0h24v24H0V0z\" fill=\"none\"/>\n",
              "    <path d=\"M18.56 5.44l.94 2.06.94-2.06 2.06-.94-2.06-.94-.94-2.06-.94 2.06-2.06.94zm-11 1L8.5 8.5l.94-2.06 2.06-.94-2.06-.94L8.5 2.5l-.94 2.06-2.06.94zm10 10l.94 2.06.94-2.06 2.06-.94-2.06-.94-.94-2.06-.94 2.06-2.06.94z\"/><path d=\"M17.41 7.96l-1.37-1.37c-.4-.4-.92-.59-1.43-.59-.52 0-1.04.2-1.43.59L10.3 9.45l-7.72 7.72c-.78.78-.78 2.05 0 2.83L4 21.41c.39.39.9.59 1.41.59.51 0 1.02-.2 1.41-.59l7.78-7.78 2.81-2.81c.8-.78.8-2.07 0-2.86zM5.41 20L4 18.59l7.72-7.72 1.47 1.35L5.41 20z\"/>\n",
              "  </svg>\n",
              "      </button>\n",
              "      \n",
              "  <style>\n",
              "    .colab-df-container {\n",
              "      display:flex;\n",
              "      flex-wrap:wrap;\n",
              "      gap: 12px;\n",
              "    }\n",
              "\n",
              "    .colab-df-convert {\n",
              "      background-color: #E8F0FE;\n",
              "      border: none;\n",
              "      border-radius: 50%;\n",
              "      cursor: pointer;\n",
              "      display: none;\n",
              "      fill: #1967D2;\n",
              "      height: 32px;\n",
              "      padding: 0 0 0 0;\n",
              "      width: 32px;\n",
              "    }\n",
              "\n",
              "    .colab-df-convert:hover {\n",
              "      background-color: #E2EBFA;\n",
              "      box-shadow: 0px 1px 2px rgba(60, 64, 67, 0.3), 0px 1px 3px 1px rgba(60, 64, 67, 0.15);\n",
              "      fill: #174EA6;\n",
              "    }\n",
              "\n",
              "    [theme=dark] .colab-df-convert {\n",
              "      background-color: #3B4455;\n",
              "      fill: #D2E3FC;\n",
              "    }\n",
              "\n",
              "    [theme=dark] .colab-df-convert:hover {\n",
              "      background-color: #434B5C;\n",
              "      box-shadow: 0px 1px 3px 1px rgba(0, 0, 0, 0.15);\n",
              "      filter: drop-shadow(0px 1px 2px rgba(0, 0, 0, 0.3));\n",
              "      fill: #FFFFFF;\n",
              "    }\n",
              "  </style>\n",
              "\n",
              "      <script>\n",
              "        const buttonEl =\n",
              "          document.querySelector('#df-916222ab-b218-4157-9219-7e308d60180d button.colab-df-convert');\n",
              "        buttonEl.style.display =\n",
              "          google.colab.kernel.accessAllowed ? 'block' : 'none';\n",
              "\n",
              "        async function convertToInteractive(key) {\n",
              "          const element = document.querySelector('#df-916222ab-b218-4157-9219-7e308d60180d');\n",
              "          const dataTable =\n",
              "            await google.colab.kernel.invokeFunction('convertToInteractive',\n",
              "                                                     [key], {});\n",
              "          if (!dataTable) return;\n",
              "\n",
              "          const docLinkHtml = 'Like what you see? Visit the ' +\n",
              "            '<a target=\"_blank\" href=https://colab.research.google.com/notebooks/data_table.ipynb>data table notebook</a>'\n",
              "            + ' to learn more about interactive tables.';\n",
              "          element.innerHTML = '';\n",
              "          dataTable['output_type'] = 'display_data';\n",
              "          await google.colab.output.renderOutput(dataTable, element);\n",
              "          const docLink = document.createElement('div');\n",
              "          docLink.innerHTML = docLinkHtml;\n",
              "          element.appendChild(docLink);\n",
              "        }\n",
              "      </script>\n",
              "    </div>\n",
              "  </div>\n",
              "  "
            ]
          },
          "metadata": {},
          "execution_count": 9
        }
      ]
    },
    {
      "cell_type": "code",
      "source": [
        "data = np.array(data)   #Превращаем в numpy массив"
      ],
      "metadata": {
        "id": "hnmXCOWwKlz0"
      },
      "execution_count": 10,
      "outputs": []
    },
    {
      "cell_type": "code",
      "source": [
        "#Отображаем исходные данные от точки start и длинной length\n",
        "start = 1000            #С какой точки начинаем\n",
        "length = 200           #Сколько точек отрисуем\n",
        "\n",
        "#Заполняем текстовые названия каналов данных\n",
        "chanelNames = ['Open', 'Max', 'Min', 'Close', 'Volume']\n",
        "\n",
        "#Рисуем все графики данных\n",
        "#ЧЕтыре основных канала - open, max, min, close\n",
        "plt.figure(figsize=(22,6))\n",
        "for i in range(4):\n",
        "  #Отрисовываем часть данных\n",
        "  #От начальной точки, до начальной точки + размер шага отрисовки\n",
        "  plt.plot(data[start:start+length,i], \n",
        "          label=chanelNames[i])\n",
        "plt.ylabel('Цена.руб')\n",
        "plt.legend()\n",
        "plt.grid()\n",
        "plt.show()\n",
        "\n",
        "#Канал volume\n",
        "plt.figure(figsize=(22,6))\n",
        "plt.bar(x=np.arange(length), height=data[start:start+length,4], label=\"Volume\")\n",
        "plt.legend()\n",
        "plt.grid()\n",
        "plt.show()"
      ],
      "metadata": {
        "colab": {
          "base_uri": "https://localhost:8080/",
          "height": 426
        },
        "id": "T5vzWeNtK1vt",
        "outputId": "42ea84dc-585d-41b1-b6ab-4a004e9d4f2a"
      },
      "execution_count": 11,
      "outputs": [
        {
          "output_type": "display_data",
          "data": {
            "text/plain": [
              "<Figure size 1584x432 with 1 Axes>"
            ],
            "image/png": "[encoded data removed]"
          },
          "metadata": {
            "needs_background": "light"
          }
        },
        {
          "output_type": "display_data",
          "data": {
            "text/plain": [
              "<Figure size 1584x432 with 1 Axes>"
            ],
            "image/png": "[encoded data removed]"
          },
          "metadata": {
            "needs_background": "light"
          }
        }
      ]
    },
    {
      "cell_type": "markdown",
      "source": [
        "# Готовим данные к первому эксперименту"
      ],
      "metadata": {
        "id": "xrndcjx3V6T7"
      }
    },
    {
      "cell_type": "code",
      "source": [
        "#Формируем параметры загрузки данных\n",
        "\n",
        "xLen = 300                      #Анализируем по 300 прошедшим точкам \n",
        "valLen = 30000                  #Используем 30.000 записей для проверки\n",
        "\n",
        "trainLen = data.shape[0]-valLen-xLen-2 # Размер тренировочной выборки\n",
        "\n",
        "trainLen"
      ],
      "metadata": {
        "colab": {
          "base_uri": "https://localhost:8080/"
        },
        "id": "TtFJSV9_MxZ4",
        "outputId": "9a270c1e-d083-4c00-a133-42b169e140de"
      },
      "execution_count": 12,
      "outputs": [
        {
          "output_type": "execute_result",
          "data": {
            "text/plain": [
              "451570"
            ]
          },
          "metadata": {},
          "execution_count": 12
        }
      ]
    },
    {
      "cell_type": "code",
      "source": [
        "#Делим данные на тренировочную и тестовую выборки \n",
        "xTrain, xTest = data[:trainLen], data[trainLen+xLen+2:]\n",
        "\n",
        "print(xTrain.shape)\n",
        "print(xTest.shape)"
      ],
      "metadata": {
        "colab": {
          "base_uri": "https://localhost:8080/"
        },
        "id": "Ya4vpjnyNvFb",
        "outputId": "318dced9-8144-48d5-bccc-ebb846b37f9b"
      },
      "execution_count": 13,
      "outputs": [
        {
          "output_type": "stream",
          "name": "stdout",
          "text": [
            "(451570, 5)\n",
            "(30000, 5)\n"
          ]
        }
      ]
    },
    {
      "cell_type": "code",
      "source": [
        "#Масштабируем данные (отдельно для X и Y)\n",
        "xScaler = MinMaxScaler()\n",
        "xScaler.fit(xTrain)\n",
        "xTrain = xScaler.transform(xTrain)\n",
        "xTest = xScaler.transform(xTest)\n",
        "\n",
        "#Делаем reshape,т.к. у нас только один столбец по одному значению\n",
        "yTrain, yTest = np.reshape(data[:trainLen,3],(-1,1)), np.reshape(data[trainLen+xLen+2:,3],(-1,1)) \n",
        "yScaler = MinMaxScaler()\n",
        "yScaler.fit(yTrain)\n",
        "yTrain = yScaler.transform(yTrain)\n",
        "yTest = yScaler.transform(yTest)"
      ],
      "metadata": {
        "id": "cWyAjYjjOmBP"
      },
      "execution_count": 14,
      "outputs": []
    },
    {
      "cell_type": "code",
      "source": [
        "#Создаем генератор для обучения\n",
        "trainDataGen = TimeseriesGenerator(xTrain, yTrain,           #В качестве параметров наши выборки\n",
        "                               length=xLen, stride=1, sampling_rate=1, #Для каждой точки (из промежутка длины xLen)\n",
        "                               batch_size=20)                #Размер batch, который будем скармливать модели\n",
        "\n",
        "#Создаем аналогичный генератор для валидации при обучении\n",
        "testDataGen = TimeseriesGenerator(xTest, yTest,\n",
        "                               length=xLen, stride=1, sampling_rate=1,\n",
        "                               batch_size=20)"
      ],
      "metadata": {
        "id": "2wchpjkNVUBJ"
      },
      "execution_count": 15,
      "outputs": []
    },
    {
      "cell_type": "code",
      "source": [
        "# Смотрим размерность данных в полученном генераторе\n",
        "\n",
        "trainDataGen[0][0].shape"
      ],
      "metadata": {
        "colab": {
          "base_uri": "https://localhost:8080/"
        },
        "id": "ICfZOm0SVxKN",
        "outputId": "5c0a3b05-00c0-41fd-9efb-45c430e4fd2c"
      },
      "execution_count": 16,
      "outputs": [
        {
          "output_type": "execute_result",
          "data": {
            "text/plain": [
              "(20, 300, 5)"
            ]
          },
          "metadata": {},
          "execution_count": 16
        }
      ]
    },
    {
      "cell_type": "code",
      "source": [
        "trainDataGen[0][1].shape"
      ],
      "metadata": {
        "colab": {
          "base_uri": "https://localhost:8080/"
        },
        "id": "2OOdQZerWlFR",
        "outputId": "a80626cb-d379-48ce-a7ed-ccfec782a06d"
      },
      "execution_count": 17,
      "outputs": [
        {
          "output_type": "execute_result",
          "data": {
            "text/plain": [
              "(20, 1)"
            ]
          },
          "metadata": {},
          "execution_count": 17
        }
      ]
    },
    {
      "cell_type": "markdown",
      "source": [
        "# Функции визуализации результатов"
      ],
      "metadata": {
        "id": "slEdVYihYWe3"
      }
    },
    {
      "cell_type": "code",
      "source": [
        "# Функция рассчитываем результаты прогнозирования сети\n",
        "# В аргументы принимает сеть (currModel) и проверочную выборку\n",
        "# Выдаёт результаты предсказания predVal\n",
        "# И правильные ответы в исходной размерности yValUnscaled (какими они были до нормирования)\n",
        "def getPred(currModel, xVal, yVal, yScaler):\n",
        "  # Предсказываем ответ сети по проверочной выборке\n",
        "  # И возвращаем исходны масштаб данных, до нормализации\n",
        "  predVal = yScaler.inverse_transform(currModel.predict(xVal))\n",
        "  yValUnscaled = yScaler.inverse_transform(yVal)\n",
        "  \n",
        "  return (predVal, yValUnscaled)"
      ],
      "metadata": {
        "id": "YxARVnaaYTT1"
      },
      "execution_count": 18,
      "outputs": []
    },
    {
      "cell_type": "code",
      "source": [
        "# Функция визуализирует графики, что предсказала сеть и какие были правильные ответы\n",
        "# start - точка с которой начинаем отрисовку графика\n",
        "# step - длина графика, которую отрисовываем\n",
        "# channel - какой канал отрисовываем\n",
        "def showPredict(start, step, channel, predVal, yValUnscaled):\n",
        "  plt.figure(figsize=(22,6))\n",
        "  plt.plot(predVal[start:start+step, channel],\n",
        "           label='Прогноз')\n",
        "  plt.plot(yValUnscaled[start:start+step, channel], \n",
        "           label='Базовый ряд')\n",
        "  plt.xlabel('Время')\n",
        "  plt.ylabel('Значение Close')\n",
        "  plt.legend()\n",
        "  plt.show()"
      ],
      "metadata": {
        "id": "L3AmnfBgZJdw"
      },
      "execution_count": 19,
      "outputs": []
    },
    {
      "cell_type": "code",
      "source": [
        "# Функция рисует корреляцию прогнозированного сигнала с правильным\n",
        "# Смещая на различное количество шагов назад\n",
        "# Для проверки появления эффекта автокорреляции\n",
        "# channels - по каким каналам отображать корреляцию\n",
        "# corrSteps - на какое количество шагов смещать сигнал назад для рассчёта корреляции\n",
        "def showCorr(channels, corrSteps, predVal, yValUnscaled):\n",
        "  # Проходим по всем каналам\n",
        "  for ch in channels:\n",
        "    corr = [] # Создаём пустой лист, в нём будут корреляции при смезении на i шагов обратно\n",
        "    yLen = yValUnscaled.shape[0] # Запоминаем размер проверочной выборки\n",
        "\n",
        "      # Постепенно увеличикаем шаг, насколько смещаем сигнал для проверки автокорреляции\n",
        "    for i in range(corrSteps):\n",
        "      # Получаем сигнал, смещённый на i шагов назад\n",
        "      # predVal[i:, ch]\n",
        "      # Сравниваем его с верными ответами, без смещения назад\n",
        "      # yValUnscaled[:yLen-i,ch]\n",
        "      # Рассчитываем их корреляцию и добавляем в лист\n",
        "      corr.append( np.corrcoef(yValUnscaled[:yLen-i,ch], predVal[i:, 0])[0][1] )\n",
        "\n",
        "    own_corr = [] # Создаём пустой лист, в нём будут корреляции при смезении на i рагов обратно\n",
        "\n",
        "      # Постепенно увеличикаем шаг, насколько смещаем сигнал для проверки автокорреляции\n",
        "    for i in range(corrSteps):\n",
        "      # Получаем сигнал, смещённый на i шагов назад\n",
        "      # predVal[i:, ch]\n",
        "      # Сравниваем его с верными ответами, без смещения назад\n",
        "      # yValUnscaled[:yLen-i,ch]\n",
        "      # Рассчитываем их корреляцию и добавляем в лист\n",
        "      own_corr.append( np.corrcoef(yValUnscaled[:yLen-i,ch], yValUnscaled[i:, ch])[0][1] )\n",
        "\n",
        "    # Отображаем график коррелций для данного шага\n",
        "    plt.figure(figsize=(14,7))\n",
        "    plt.plot(corr, label='Предсказание на ' + str(ch+1) + ' шаг')\n",
        "    plt.plot(own_corr, label='Эталон')\n",
        "\n",
        "  plt.xlabel('Время')\n",
        "  plt.ylabel('Значение')\n",
        "  plt.legend()\n",
        "  plt.show()"
      ],
      "metadata": {
        "id": "5iBBKYWYQzjT"
      },
      "execution_count": 20,
      "outputs": []
    },
    {
      "cell_type": "code",
      "source": [
        "#Создадим генератор проверочной выборки, из которой потом вытащим xVal, yVal для проверки\n",
        "DataGen = TimeseriesGenerator(xTest, yTest,\n",
        "                               length=300, sampling_rate=1,\n",
        "                               batch_size=len(xTest)) #размер batch будет равен длине нашей выборки\n",
        "xVal = []\n",
        "yVal = []\n",
        "for i in DataGen:\n",
        "  xVal.append(i[0])\n",
        "  yVal.append(i[1])\n",
        "\n",
        "xVal = np.array(xVal)\n",
        "yVal = np.array(yVal)"
      ],
      "metadata": {
        "id": "Sa-RSofARyHT"
      },
      "execution_count": 21,
      "outputs": []
    },
    {
      "cell_type": "markdown",
      "source": [
        "# Эксперимент 1: Danse. Прогнозируем на 1 шаг вперёд"
      ],
      "metadata": {
        "id": "4ixasYvxR_-p"
      }
    },
    {
      "cell_type": "code",
      "source": [
        "#Создаём нейронку\n",
        "modelD = Sequential()\n",
        "modelD.add(Dense(150,input_shape = (xLen,5), activation=\"relu\" )) # 5 - количество каналов\n",
        "modelD.add(Flatten())\n",
        "modelD.add(Dense(1, activation=\"linear\"))\n",
        "\n",
        "#Компилируем\n",
        "modelD.compile(loss=\"mse\", optimizer=Adam(lr=1e-4))\n",
        "\n",
        "modelD.summary()"
      ],
      "metadata": {
        "colab": {
          "base_uri": "https://localhost:8080/"
        },
        "id": "RTYD2azbR7M5",
        "outputId": "e05dcd85-9d0e-4110-852d-dce28f3be321"
      },
      "execution_count": 22,
      "outputs": [
        {
          "output_type": "stream",
          "name": "stdout",
          "text": [
            "Model: \"sequential\"\n",
            "_________________________________________________________________\n",
            " Layer (type)                Output Shape              Param #   \n",
            "=================================================================\n",
            " dense (Dense)               (None, 300, 150)          900       \n",
            "                                                                 \n",
            " flatten (Flatten)           (None, 45000)             0         \n",
            "                                                                 \n",
            " dense_1 (Dense)             (None, 1)                 45001     \n",
            "                                                                 \n",
            "=================================================================\n",
            "Total params: 45,901\n",
            "Trainable params: 45,901\n",
            "Non-trainable params: 0\n",
            "_________________________________________________________________\n"
          ]
        }
      ]
    },
    {
      "cell_type": "code",
      "source": [
        "#Запускаем обучение\n",
        "history = modelD.fit(\n",
        "                    trainDataGen, \n",
        "                    epochs=5, \n",
        "                    verbose=1, \n",
        "                    validation_data = testDataGen \n",
        "                    )"
      ],
      "metadata": {
        "colab": {
          "base_uri": "https://localhost:8080/"
        },
        "id": "vXSO8zczSTYQ",
        "outputId": "17ad12b5-3739-4258-8862-fb28c25f9f18"
      },
      "execution_count": 23,
      "outputs": [
        {
          "output_type": "stream",
          "name": "stdout",
          "text": [
            "Epoch 1/5\n",
            "22564/22564 [==============================] - 238s 10ms/step - loss: 6.5616e-04 - val_loss: 2.0481e-05\n",
            "Epoch 2/5\n",
            "22564/22564 [==============================] - 248s 11ms/step - loss: 5.4980e-05 - val_loss: 2.6590e-04\n",
            "Epoch 3/5\n",
            "22564/22564 [==============================] - 231s 10ms/step - loss: 3.4387e-05 - val_loss: 1.5182e-05\n",
            "Epoch 4/5\n",
            "22564/22564 [==============================] - 246s 11ms/step - loss: 2.6131e-05 - val_loss: 3.5952e-05\n",
            "Epoch 5/5\n",
            "22564/22564 [==============================] - 215s 10ms/step - loss: 2.3772e-05 - val_loss: 1.7215e-05\n"
          ]
        }
      ]
    },
    {
      "cell_type": "code",
      "source": [
        "#Выводим графики\n",
        "plt.figure(figsize=(14,7))\n",
        "plt.plot(history.history['loss'], \n",
        "         label='Средняя абсолютная ошибка на обучающем наборе')\n",
        "plt.plot(history.history['val_loss'], \n",
        "         label='Средняя абсолютная ошибка на проверочном наборе')\n",
        "plt.ylabel('Средняя ошибка')\n",
        "plt.legend()\n",
        "plt.show()"
      ],
      "metadata": {
        "colab": {
          "base_uri": "https://localhost:8080/",
          "height": 371
        },
        "id": "YkY0gWSpUdV-",
        "outputId": "ad97deb4-bfed-4e6a-bbc3-0da98991193c"
      },
      "execution_count": 24,
      "outputs": [
        {
          "output_type": "display_data",
          "data": {
            "text/plain": [
              "<Figure size 1008x504 with 1 Axes>"
            ],
            "image/png": "[encoded data removed]"
          },
          "metadata": {
            "needs_background": "light"
          }
        }
      ]
    },
    {
      "cell_type": "code",
      "source": [
        "#Прогнозируем данные текущей сетью\n",
        "currModel = modelD #Выбираем текущую модель\n",
        "(predVal, yValUnscaled) = getPred(currModel, xVal[0], yVal[0], yScaler) #Прогнозируем данные\n",
        "\n",
        "#Отображаем графики\n",
        "showPredict(0, 160, 0, predVal, yValUnscaled)"
      ],
      "metadata": {
        "colab": {
          "base_uri": "https://localhost:8080/",
          "height": 228
        },
        "id": "3Zxlyi4cX0kB",
        "outputId": "84937d5c-b25d-472f-c48c-7d524881b98d"
      },
      "execution_count": 25,
      "outputs": [
        {
          "output_type": "display_data",
          "data": {
            "text/plain": [
              "<Figure size 1584x432 with 1 Axes>"
            ],
            "image/png": "[encoded data removed]"
          },
          "metadata": {
            "needs_background": "light"
          }
        }
      ]
    },
    {
      "cell_type": "code",
      "source": [
        "#Отображаем корреляцию\n",
        "#Используем выходной канал - только open\n",
        "#Проверяем корреляцию на глубину 60 шагов\n",
        "showCorr([0], 10, predVal, yValUnscaled)"
      ],
      "metadata": {
        "colab": {
          "base_uri": "https://localhost:8080/",
          "height": 386
        },
        "id": "XaOdzLQVX6ET",
        "outputId": "be490af9-e0dc-4973-b97a-99df0ca1653a"
      },
      "execution_count": 26,
      "outputs": [
        {
          "output_type": "display_data",
          "data": {
            "text/plain": [
              "<Figure size 1008x504 with 1 Axes>"
            ],
            "image/png": "[encoded data removed]"
          },
          "metadata": {
            "needs_background": "light"
          }
        }
      ]
    },
    {
      "cell_type": "markdown",
      "source": [
        "# Эксперимент 2: Danse. Прогнозируем на 10 шагов вперед"
      ],
      "metadata": {
        "id": "W_MyeLUI-T5x"
      }
    },
    {
      "cell_type": "code",
      "source": [
        "#Формируем параметры загрузки данных\n",
        "xLen = 300                       #Анализируем по 300 прошедшим точкам \n",
        "valLen = 30000                   #Используем 30000 записей для проверки\n",
        "stepsForward = 10\n",
        "trainLen = data.shape[0]-valLen #Размер тренировочной выборки\n",
        "\n",
        "#Делим данные на тренировочную и тестовую выборки \n",
        "xTrain,xTest = data[:trainLen-stepsForward], data[trainLen+xLen+2:-stepsForward+1]\n",
        "\n",
        "#Масштабируем данные (отдельно для X и Y), чтобы их легче было скормить сетке\n",
        "xScaler = StandardScaler()\n",
        "xScaler.fit(xTrain)\n",
        "xTrain = xScaler.transform(xTrain)\n",
        "xTest = xScaler.transform(xTest)\n",
        "\n",
        "#Для подготовки yTrain на 10 шагов вперед необходимо создать дополнительный датасет\n",
        "yTrain = np.array([data[:trainLen,3][i:i+stepsForward] for i in range(trainLen-stepsForward)])\n",
        "yTest = np.array([data[trainLen+xLen+2:,3][i:i+stepsForward] for i in range(valLen-xLen-stepsForward-1)])\n",
        "yScaler = StandardScaler()\n",
        "yScaler.fit(yTrain)\n",
        "yTrain = yScaler.transform(yTrain)\n",
        "yTest = yScaler.transform(yTest)\n",
        "\n",
        "#Создаем генератор для обучения\n",
        "trainDataGen = TimeseriesGenerator(xTrain, yTrain,           #В качестве параметров наши выборки\n",
        "                               length=xLen, sampling_rate=1, #Для каждой точки\n",
        "                               batch_size=20)                #Размер batch, который будем скармливать модели\n",
        "\n",
        "#Создаем аналогичный генератор для валидации при обучении\n",
        "testDataGen = TimeseriesGenerator(xTest, yTest,\n",
        "                               length=xLen, sampling_rate=1,\n",
        "                               batch_size=20)"
      ],
      "metadata": {
        "id": "RUFddCsC-YyO"
      },
      "execution_count": 27,
      "outputs": []
    },
    {
      "cell_type": "code",
      "source": [
        "print(trainDataGen[0][0].shape,\n",
        "      trainDataGen[0][1].shape)"
      ],
      "metadata": {
        "colab": {
          "base_uri": "https://localhost:8080/"
        },
        "id": "l5xWhP6H-uO-",
        "outputId": "0c389e93-c7fe-4a8e-afc7-f28e5831963d"
      },
      "execution_count": 28,
      "outputs": [
        {
          "output_type": "stream",
          "name": "stdout",
          "text": [
            "(20, 300, 5) (20, 10)\n"
          ]
        }
      ]
    },
    {
      "cell_type": "code",
      "source": [
        "#Создаём нейронку\n",
        "modelD = Sequential()\n",
        "modelD.add(Dense(150,input_shape = (xLen,5), activation=\"linear\" )) # 5 - количество каналов\n",
        "modelD.add(Flatten())\n",
        "modelD.add(Dense(yTrain.shape[1], activation=\"linear\"))\n",
        "\n",
        "#Компилируем\n",
        "modelD.compile(loss=\"mse\", optimizer=Adam(lr=1e-4))"
      ],
      "metadata": {
        "id": "r7Et3Nxj-0c2"
      },
      "execution_count": 29,
      "outputs": []
    },
    {
      "cell_type": "code",
      "source": [
        "#Запускаем обучение\n",
        "history = modelD.fit(\n",
        "                    trainDataGen, \n",
        "                    epochs=5, \n",
        "                    verbose=1, \n",
        "                    validation_data = testDataGen \n",
        "                    )"
      ],
      "metadata": {
        "colab": {
          "base_uri": "https://localhost:8080/"
        },
        "id": "XzPlfmAz-8TL",
        "outputId": "2f7e2ead-5834-4f47-adc6-601af8600925"
      },
      "execution_count": 30,
      "outputs": [
        {
          "output_type": "stream",
          "name": "stdout",
          "text": [
            "Epoch 1/5\n",
            "22579/22579 [==============================] - 283s 13ms/step - loss: 0.0258 - val_loss: 0.0029\n",
            "Epoch 2/5\n",
            "22579/22579 [==============================] - 276s 12ms/step - loss: 0.0020 - val_loss: 2.8949e-04\n",
            "Epoch 3/5\n",
            "22579/22579 [==============================] - 298s 13ms/step - loss: 4.9891e-04 - val_loss: 0.0010\n",
            "Epoch 4/5\n",
            "22579/22579 [==============================] - 281s 12ms/step - loss: 3.2271e-04 - val_loss: 4.0377e-04\n",
            "Epoch 5/5\n",
            "22579/22579 [==============================] - 286s 13ms/step - loss: 2.8817e-04 - val_loss: 1.6152e-04\n"
          ]
        }
      ]
    },
    {
      "cell_type": "code",
      "source": [
        "#Выводим графики\n",
        "plt.plot(history.history['loss'], \n",
        "         label='Средняя абсолютная ошибка на обучающем наборе')\n",
        "plt.plot(history.history['val_loss'], \n",
        "         label='Средняя абсолютная ошибка на проверочном наборе')\n",
        "plt.ylabel('Средняя ошибка')\n",
        "plt.legend()\n",
        "plt.show()"
      ],
      "metadata": {
        "colab": {
          "base_uri": "https://localhost:8080/",
          "height": 265
        },
        "id": "xBipld7Z_MKv",
        "outputId": "e0ca3327-348f-491a-f3d3-647dca4699ec"
      },
      "execution_count": 31,
      "outputs": [
        {
          "output_type": "display_data",
          "data": {
            "text/plain": [
              "<Figure size 432x288 with 1 Axes>"
            ],
            "image/png": "[encoded data removed]"
          },
          "metadata": {
            "needs_background": "light"
          }
        }
      ]
    },
    {
      "cell_type": "code",
      "source": [
        "#Прогнозируем данные текущей сетью\n",
        "currModel = modelD #Выбираем текущую модель\n",
        "(predVal, yValUnscaled) = getPred(currModel, xVal[0], yVal[0], yScaler) #Прогнозируем данные\n"
      ],
      "metadata": {
        "colab": {
          "base_uri": "https://localhost:8080/",
          "height": 430
        },
        "id": "JkdWgBhPOzjB",
        "outputId": "b1827341-a51a-4ac2-c631-a5ca393e564c"
      },
      "execution_count": 33,
      "outputs": [
        {
          "output_type": "error",
          "ename": "ValueError",
          "evalue": "ignored",
          "traceback": [
            "\u001b[0;31m---------------------------------------------------------------------------\u001b[0m",
            "\u001b[0;31mValueError\u001b[0m                                Traceback (most recent call last)",
            "\u001b[0;32m<ipython-input-33-21e995d49689>\u001b[0m in \u001b[0;36m<module>\u001b[0;34m()\u001b[0m\n\u001b[1;32m      1\u001b[0m \u001b[0;31m#Прогнозируем данные текущей сетью\u001b[0m\u001b[0;34m\u001b[0m\u001b[0;34m\u001b[0m\u001b[0;34m\u001b[0m\u001b[0m\n\u001b[1;32m      2\u001b[0m \u001b[0mcurrModel\u001b[0m \u001b[0;34m=\u001b[0m \u001b[0mmodelD\u001b[0m \u001b[0;31m#Выбираем текущую модель\u001b[0m\u001b[0;34m\u001b[0m\u001b[0;34m\u001b[0m\u001b[0m\n\u001b[0;32m----> 3\u001b[0;31m \u001b[0;34m(\u001b[0m\u001b[0mpredVal\u001b[0m\u001b[0;34m,\u001b[0m \u001b[0myValUnscaled\u001b[0m\u001b[0;34m)\u001b[0m \u001b[0;34m=\u001b[0m \u001b[0mgetPred\u001b[0m\u001b[0;34m(\u001b[0m\u001b[0mcurrModel\u001b[0m\u001b[0;34m,\u001b[0m \u001b[0mxVal\u001b[0m\u001b[0;34m[\u001b[0m\u001b[0;36m0\u001b[0m\u001b[0;34m]\u001b[0m\u001b[0;34m,\u001b[0m \u001b[0myVal\u001b[0m\u001b[0;34m[\u001b[0m\u001b[0;36m0\u001b[0m\u001b[0;34m]\u001b[0m\u001b[0;34m,\u001b[0m \u001b[0myScaler\u001b[0m\u001b[0;34m)\u001b[0m \u001b[0;31m#Прогнозируем данные\u001b[0m\u001b[0;34m\u001b[0m\u001b[0;34m\u001b[0m\u001b[0m\n\u001b[0m",
            "\u001b[0;32m<ipython-input-18-b01be2908b13>\u001b[0m in \u001b[0;36mgetPred\u001b[0;34m(currModel, xVal, yVal, yScaler)\u001b[0m\n\u001b[1;32m      7\u001b[0m   \u001b[0;31m# И возвращаем исходны масштаб данных, до нормализации\u001b[0m\u001b[0;34m\u001b[0m\u001b[0;34m\u001b[0m\u001b[0;34m\u001b[0m\u001b[0m\n\u001b[1;32m      8\u001b[0m   \u001b[0mpredVal\u001b[0m \u001b[0;34m=\u001b[0m \u001b[0myScaler\u001b[0m\u001b[0;34m.\u001b[0m\u001b[0minverse_transform\u001b[0m\u001b[0;34m(\u001b[0m\u001b[0mcurrModel\u001b[0m\u001b[0;34m.\u001b[0m\u001b[0mpredict\u001b[0m\u001b[0;34m(\u001b[0m\u001b[0mxVal\u001b[0m\u001b[0;34m)\u001b[0m\u001b[0;34m)\u001b[0m\u001b[0;34m\u001b[0m\u001b[0;34m\u001b[0m\u001b[0m\n\u001b[0;32m----> 9\u001b[0;31m   \u001b[0myValUnscaled\u001b[0m \u001b[0;34m=\u001b[0m \u001b[0myScaler\u001b[0m\u001b[0;34m.\u001b[0m\u001b[0minverse_transform\u001b[0m\u001b[0;34m(\u001b[0m\u001b[0myVal\u001b[0m\u001b[0;34m)\u001b[0m\u001b[0;34m\u001b[0m\u001b[0;34m\u001b[0m\u001b[0m\n\u001b[0m\u001b[1;32m     10\u001b[0m \u001b[0;34m\u001b[0m\u001b[0m\n\u001b[1;32m     11\u001b[0m   \u001b[0;32mreturn\u001b[0m \u001b[0;34m(\u001b[0m\u001b[0mpredVal\u001b[0m\u001b[0;34m,\u001b[0m \u001b[0myValUnscaled\u001b[0m\u001b[0;34m)\u001b[0m\u001b[0;34m\u001b[0m\u001b[0;34m\u001b[0m\u001b[0m\n",
            "\u001b[0;32m/usr/local/lib/python3.7/dist-packages/sklearn/preprocessing/_data.py\u001b[0m in \u001b[0;36minverse_transform\u001b[0;34m(self, X, copy)\u001b[0m\n\u001b[1;32m   1033\u001b[0m         \u001b[0;32melse\u001b[0m\u001b[0;34m:\u001b[0m\u001b[0;34m\u001b[0m\u001b[0;34m\u001b[0m\u001b[0m\n\u001b[1;32m   1034\u001b[0m             \u001b[0;32mif\u001b[0m \u001b[0mself\u001b[0m\u001b[0;34m.\u001b[0m\u001b[0mwith_std\u001b[0m\u001b[0;34m:\u001b[0m\u001b[0;34m\u001b[0m\u001b[0;34m\u001b[0m\u001b[0m\n\u001b[0;32m-> 1035\u001b[0;31m                 \u001b[0mX\u001b[0m \u001b[0;34m*=\u001b[0m \u001b[0mself\u001b[0m\u001b[0;34m.\u001b[0m\u001b[0mscale_\u001b[0m\u001b[0;34m\u001b[0m\u001b[0;34m\u001b[0m\u001b[0m\n\u001b[0m\u001b[1;32m   1036\u001b[0m             \u001b[0;32mif\u001b[0m \u001b[0mself\u001b[0m\u001b[0;34m.\u001b[0m\u001b[0mwith_mean\u001b[0m\u001b[0;34m:\u001b[0m\u001b[0;34m\u001b[0m\u001b[0;34m\u001b[0m\u001b[0m\n\u001b[1;32m   1037\u001b[0m                 \u001b[0mX\u001b[0m \u001b[0;34m+=\u001b[0m \u001b[0mself\u001b[0m\u001b[0;34m.\u001b[0m\u001b[0mmean_\u001b[0m\u001b[0;34m\u001b[0m\u001b[0;34m\u001b[0m\u001b[0m\n",
            "\u001b[0;31mValueError\u001b[0m: non-broadcastable output operand with shape (29700,1) doesn't match the broadcast shape (29700,10)"
          ]
        }
      ]
    },
    {
      "cell_type": "code",
      "source": [
        "#Прогнозируем данные текущей сетью\n",
        "currModel = modelD #Выбираем текущую модель\n",
        "(predVal, yValUnscaled) = getPred(currModel, xVal[0], yVal[0], yScaler) #Прогнозируем данные\n",
        "\n",
        "#Отображаем графики\n",
        "for i in range(10):\n",
        "    showPredict(0, 160, i, predVal, yValUnscaled)\n"
      ],
      "metadata": {
        "colab": {
          "base_uri": "https://localhost:8080/",
          "height": 468
        },
        "id": "seEJI_QABNwS",
        "outputId": "aae1816c-4d67-42f6-f19f-cddc1765146c"
      },
      "execution_count": 32,
      "outputs": [
        {
          "output_type": "error",
          "ename": "ValueError",
          "evalue": "ignored",
          "traceback": [
            "\u001b[0;31m---------------------------------------------------------------------------\u001b[0m",
            "\u001b[0;31mValueError\u001b[0m                                Traceback (most recent call last)",
            "\u001b[0;32m<ipython-input-32-1ccca86e03c6>\u001b[0m in \u001b[0;36m<module>\u001b[0;34m()\u001b[0m\n\u001b[1;32m      1\u001b[0m \u001b[0;31m#Прогнозируем данные текущей сетью\u001b[0m\u001b[0;34m\u001b[0m\u001b[0;34m\u001b[0m\u001b[0;34m\u001b[0m\u001b[0m\n\u001b[1;32m      2\u001b[0m \u001b[0mcurrModel\u001b[0m \u001b[0;34m=\u001b[0m \u001b[0mmodelD\u001b[0m \u001b[0;31m#Выбираем текущую модель\u001b[0m\u001b[0;34m\u001b[0m\u001b[0;34m\u001b[0m\u001b[0m\n\u001b[0;32m----> 3\u001b[0;31m \u001b[0;34m(\u001b[0m\u001b[0mpredVal\u001b[0m\u001b[0;34m,\u001b[0m \u001b[0myValUnscaled\u001b[0m\u001b[0;34m)\u001b[0m \u001b[0;34m=\u001b[0m \u001b[0mgetPred\u001b[0m\u001b[0;34m(\u001b[0m\u001b[0mcurrModel\u001b[0m\u001b[0;34m,\u001b[0m \u001b[0mxVal\u001b[0m\u001b[0;34m[\u001b[0m\u001b[0;36m0\u001b[0m\u001b[0;34m]\u001b[0m\u001b[0;34m,\u001b[0m \u001b[0myVal\u001b[0m\u001b[0;34m[\u001b[0m\u001b[0;36m0\u001b[0m\u001b[0;34m]\u001b[0m\u001b[0;34m,\u001b[0m \u001b[0myScaler\u001b[0m\u001b[0;34m)\u001b[0m \u001b[0;31m#Прогнозируем данные\u001b[0m\u001b[0;34m\u001b[0m\u001b[0;34m\u001b[0m\u001b[0m\n\u001b[0m\u001b[1;32m      4\u001b[0m \u001b[0;34m\u001b[0m\u001b[0m\n\u001b[1;32m      5\u001b[0m \u001b[0;31m#Отображаем графики\u001b[0m\u001b[0;34m\u001b[0m\u001b[0;34m\u001b[0m\u001b[0;34m\u001b[0m\u001b[0m\n",
            "\u001b[0;32m<ipython-input-18-b01be2908b13>\u001b[0m in \u001b[0;36mgetPred\u001b[0;34m(currModel, xVal, yVal, yScaler)\u001b[0m\n\u001b[1;32m      7\u001b[0m   \u001b[0;31m# И возвращаем исходны масштаб данных, до нормализации\u001b[0m\u001b[0;34m\u001b[0m\u001b[0;34m\u001b[0m\u001b[0;34m\u001b[0m\u001b[0m\n\u001b[1;32m      8\u001b[0m   \u001b[0mpredVal\u001b[0m \u001b[0;34m=\u001b[0m \u001b[0myScaler\u001b[0m\u001b[0;34m.\u001b[0m\u001b[0minverse_transform\u001b[0m\u001b[0;34m(\u001b[0m\u001b[0mcurrModel\u001b[0m\u001b[0;34m.\u001b[0m\u001b[0mpredict\u001b[0m\u001b[0;34m(\u001b[0m\u001b[0mxVal\u001b[0m\u001b[0;34m)\u001b[0m\u001b[0;34m)\u001b[0m\u001b[0;34m\u001b[0m\u001b[0;34m\u001b[0m\u001b[0m\n\u001b[0;32m----> 9\u001b[0;31m   \u001b[0myValUnscaled\u001b[0m \u001b[0;34m=\u001b[0m \u001b[0myScaler\u001b[0m\u001b[0;34m.\u001b[0m\u001b[0minverse_transform\u001b[0m\u001b[0;34m(\u001b[0m\u001b[0myVal\u001b[0m\u001b[0;34m)\u001b[0m\u001b[0;34m\u001b[0m\u001b[0;34m\u001b[0m\u001b[0m\n\u001b[0m\u001b[1;32m     10\u001b[0m \u001b[0;34m\u001b[0m\u001b[0m\n\u001b[1;32m     11\u001b[0m   \u001b[0;32mreturn\u001b[0m \u001b[0;34m(\u001b[0m\u001b[0mpredVal\u001b[0m\u001b[0;34m,\u001b[0m \u001b[0myValUnscaled\u001b[0m\u001b[0;34m)\u001b[0m\u001b[0;34m\u001b[0m\u001b[0;34m\u001b[0m\u001b[0m\n",
            "\u001b[0;32m/usr/local/lib/python3.7/dist-packages/sklearn/preprocessing/_data.py\u001b[0m in \u001b[0;36minverse_transform\u001b[0;34m(self, X, copy)\u001b[0m\n\u001b[1;32m   1033\u001b[0m         \u001b[0;32melse\u001b[0m\u001b[0;34m:\u001b[0m\u001b[0;34m\u001b[0m\u001b[0;34m\u001b[0m\u001b[0m\n\u001b[1;32m   1034\u001b[0m             \u001b[0;32mif\u001b[0m \u001b[0mself\u001b[0m\u001b[0;34m.\u001b[0m\u001b[0mwith_std\u001b[0m\u001b[0;34m:\u001b[0m\u001b[0;34m\u001b[0m\u001b[0;34m\u001b[0m\u001b[0m\n\u001b[0;32m-> 1035\u001b[0;31m                 \u001b[0mX\u001b[0m \u001b[0;34m*=\u001b[0m \u001b[0mself\u001b[0m\u001b[0;34m.\u001b[0m\u001b[0mscale_\u001b[0m\u001b[0;34m\u001b[0m\u001b[0;34m\u001b[0m\u001b[0m\n\u001b[0m\u001b[1;32m   1036\u001b[0m             \u001b[0;32mif\u001b[0m \u001b[0mself\u001b[0m\u001b[0;34m.\u001b[0m\u001b[0mwith_mean\u001b[0m\u001b[0;34m:\u001b[0m\u001b[0;34m\u001b[0m\u001b[0;34m\u001b[0m\u001b[0m\n\u001b[1;32m   1037\u001b[0m                 \u001b[0mX\u001b[0m \u001b[0;34m+=\u001b[0m \u001b[0mself\u001b[0m\u001b[0;34m.\u001b[0m\u001b[0mmean_\u001b[0m\u001b[0;34m\u001b[0m\u001b[0;34m\u001b[0m\u001b[0m\n",
            "\u001b[0;31mValueError\u001b[0m: non-broadcastable output operand with shape (29700,1) doesn't match the broadcast shape (29700,10)"
          ]
        }
      ]
    },
    {
      "cell_type": "code",
      "source": [
        "#Отображаем корреляцию\n",
        "#Используем выходной канал - только close\n",
        "#Проверяем корреляцию на глубину 60 шагов\n",
        "showCorr([x for x in range(10)], 60, predVal, yValUnscaled)"
      ],
      "metadata": {
        "id": "8PvHxDUyBWU3"
      },
      "execution_count": null,
      "outputs": []
    },
    {
      "cell_type": "markdown",
      "source": [
        "# Эксперимент 3: Conv1D. Прогнозируем на 10 шагов вперед"
      ],
      "metadata": {
        "id": "4ZtSjmVKDDza"
      }
    },
    {
      "cell_type": "code",
      "source": [
        "# Создаём сесть \n",
        "\n",
        "modelC = Sequential()\n",
        "\n",
        "modelC.add(Conv1D(200, 5, input_shape = (xLen,5), activation=\"linear\"))\n",
        "modelC.add(Flatten())\n",
        "modelC.add(Dense(100, activation=\"linear\"))\n",
        "modelC.add(Dense(yTrain.shape[1], activation=\"linear\"))\n",
        "\n",
        "modelC.compile(loss=\"mse\", optimizer=Adam(lr=1e-4))\n",
        "modelD.summary()"
      ],
      "metadata": {
        "id": "CLX1j39HDNF-"
      },
      "execution_count": null,
      "outputs": []
    },
    {
      "cell_type": "code",
      "source": [
        "# Обучаем и выводим графики ошибки обучения\n",
        "\n",
        "history = modelC.fit_generator(trainDataGen,\n",
        "                    epochs=10, \n",
        "                    verbose=1,\n",
        "                    validation_data=testDataGen)\n",
        "\n",
        "plt.plot(history.history['loss'], \n",
        "         label='Средняя абсолютная ошибка на обучающем наборе')\n",
        "plt.plot(history.history['val_loss'], \n",
        "         label='Средняя абсолютная ошибка на проверочном наборе')\n",
        "plt.ylabel('Средняя ошибка')\n",
        "plt.legend()\n",
        "plt.show()"
      ],
      "metadata": {
        "id": "d2uED_fDDZnN"
      },
      "execution_count": null,
      "outputs": []
    },
    {
      "cell_type": "code",
      "source": [
        "#Прогнозируем данные текущей сетью\n",
        "currModel = modelC\n",
        "(predVal, yValUnscaled) = getPred(currModel, xVal[0], yVal[0], yScaler)"
      ],
      "metadata": {
        "id": "t1T4k45vDmZT"
      },
      "execution_count": null,
      "outputs": []
    },
    {
      "cell_type": "code",
      "source": [
        "for i in range(10):\n",
        "    showPredict(0, 160, i, predVal, yValUnscaled)"
      ],
      "metadata": {
        "id": "BAveJIcLDqWg"
      },
      "execution_count": null,
      "outputs": []
    },
    {
      "cell_type": "code",
      "source": [
        "#Отображаем корреляцию\n",
        "showCorr([x for x in range(10)], 60, predVal, yValUnscaled)"
      ],
      "metadata": {
        "id": "C3SdxKR6DtQz"
      },
      "execution_count": null,
      "outputs": []
    }
  ]
}